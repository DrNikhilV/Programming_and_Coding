{
 "cells": [
  {
   "cell_type": "code",
   "execution_count": 2,
   "metadata": {},
   "outputs": [
    {
     "name": "stdout",
     "output_type": "stream",
     "text": [
      "Best Decision: Invest\n",
      "Expected Utility: 40.0\n"
     ]
    }
   ],
   "source": [
    "import numpy as np\n",
    "\n",
    "class DecisionNetwork:\n",
    "    def __init__(self):\n",
    "        self.chance_nodes = {}\n",
    "        self.decision_node = None\n",
    "        self.utility_nodes = []\n",
    "\n",
    "    def add_chance_node(self, name, outcomes, probabilities):\n",
    "        self.chance_nodes[name] = (outcomes, probabilities)\n",
    "\n",
    "    def set_decision_node(self, name, decisions):\n",
    "        self.decision_node = (name, decisions)\n",
    "\n",
    "    def add_utility_node(self, utility_func):\n",
    "        self.utility_nodes.append(utility_func)\n",
    "\n",
    "    def expected_utility(self, decision):\n",
    "        expected_utility = 0\n",
    "        \n",
    "        for node_name, (outcomes, probabilities) in self.chance_nodes.items():\n",
    "            for outcome, prob in zip(outcomes, probabilities):\n",
    "                total_utility = 0\n",
    "                for utility_func in self.utility_nodes:\n",
    "                    total_utility += utility_func(decision, outcome)\n",
    "                \n",
    "                expected_utility += prob * total_utility\n",
    "        \n",
    "        return expected_utility\n",
    "\n",
    "    def best_decision(self):\n",
    "        if not self.decision_node:\n",
    "            raise ValueError(\"No decision node set in the network.\")\n",
    "        \n",
    "        decision_name, decisions = self.decision_node\n",
    "        best_dec = None\n",
    "        best_utility = float('-inf')\n",
    "        \n",
    "        for decision in decisions:\n",
    "            utility = self.expected_utility(decision)\n",
    "            if utility > best_utility:\n",
    "                best_utility = utility\n",
    "                best_dec = decision\n",
    "        \n",
    "        return best_dec, best_utility\n",
    "\n",
    "def utility_function(decision, outcome):\n",
    "    if decision == \"Invest\" and outcome == \"Success\":\n",
    "        return 100\n",
    "    elif decision == \"Invest\" and outcome == \"Failure\":\n",
    "        return -50\n",
    "    elif decision == \"Wait\" and outcome == \"Success\":\n",
    "        return 50\n",
    "    elif decision == \"Wait\" and outcome == \"Failure\":\n",
    "        return 0 \n",
    "    else:\n",
    "        return 0\n",
    "\n",
    "if __name__ == \"__main__\":\n",
    "    network = DecisionNetwork()\n",
    "\n",
    "    network.add_chance_node(\"Market Outcome\", [\"Success\", \"Failure\"], [0.6, 0.4])\n",
    "\n",
    "    network.set_decision_node(\"Investment Decision\", [\"Invest\", \"Wait\"])\n",
    "\n",
    "    network.add_utility_node(utility_function)\n",
    "\n",
    "    best_decision, best_utility = network.best_decision()\n",
    "\n",
    "    print(f\"Best Decision: {best_decision}\")\n",
    "    print(f\"Expected Utility: {best_utility}\")"
   ]
  }
 ],
 "metadata": {
  "kernelspec": {
   "display_name": "Python 3",
   "language": "python",
   "name": "python3"
  },
  "language_info": {
   "codemirror_mode": {
    "name": "ipython",
    "version": 3
   },
   "file_extension": ".py",
   "mimetype": "text/x-python",
   "name": "python",
   "nbconvert_exporter": "python",
   "pygments_lexer": "ipython3",
   "version": "3.12.2"
  }
 },
 "nbformat": 4,
 "nbformat_minor": 2
}
