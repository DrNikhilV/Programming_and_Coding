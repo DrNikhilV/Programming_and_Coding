{
 "cells": [
  {
   "cell_type": "code",
   "execution_count": 1,
   "metadata": {},
   "outputs": [
    {
     "name": "stderr",
     "output_type": "stream",
     "text": [
      "c:\\Users\\V Nikhil\\AppData\\Local\\Programs\\Python\\Python312\\Lib\\site-packages\\tqdm\\auto.py:21: TqdmWarning: IProgress not found. Please update jupyter and ipywidgets. See https://ipywidgets.readthedocs.io/en/stable/user_install.html\n",
      "  from .autonotebook import tqdm as notebook_tqdm\n"
     ]
    }
   ],
   "source": [
    "# Import necessary libraries\n",
    "from pgmpy.models import BayesianNetwork\n",
    "from pgmpy.factors.discrete import TabularCPD\n",
    "\n",
    "import networkx as nx\n",
    "import matplotlib.pyplot as plt"
   ]
  },
  {
   "cell_type": "code",
   "execution_count": 2,
   "metadata": {},
   "outputs": [],
   "source": [
    "# Function to plot Bayesian Network\n",
    "def plot_bn(model):\n",
    "    pos = nx.spring_layout(model)\n",
    "    nx.draw(model, pos, with_labels=True, node_size=3000, node_color=\"skyblue\", node_shape=\"s\", alpha=0.75, linewidths=40)\n",
    "    plt.show()\n",
    "\n",
    "# Define the Bayesian Network structure\n",
    "model = BayesianNetwork([\n",
    "    ('T', 'S'),  # Theft causes Siren\n",
    "    ('Q', 'S'),  # Quake causes Siren\n",
    "    ('S', 'K'),  # Siren causes Kevin to call\n",
    "    ('S', 'L')   # Siren causes Lisa to call\n",
    "])"
   ]
  },
  {
   "cell_type": "code",
   "execution_count": 3,
   "metadata": {},
   "outputs": [],
   "source": [
    "# Define the CPDs with new values\n",
    "cpd_t = TabularCPD('T', 2, [[0.995], [0.005]])\n",
    "cpd_q = TabularCPD('Q', 2, [[0.997], [0.003]])\n",
    "cpd_s = TabularCPD('S', 2,\n",
    "                   [[0.998, 0.8, 0.5, 0.1],\n",
    "                    [0.002, 0.2, 0.5, 0.9]],\n",
    "                   evidence=['T', 'Q'], evidence_card=[2, 2])\n",
    "cpd_k = TabularCPD('K', 2,\n",
    "                   [[0.9, 0.2],\n",
    "                    [0.1, 0.8]],\n",
    "                   evidence=['S'], evidence_card=[2])\n",
    "cpd_l = TabularCPD('L', 2,\n",
    "                   [[0.85, 0.3],\n",
    "                    [0.15, 0.7]],\n",
    "                   evidence=['S'], evidence_card=[2])"
   ]
  },
  {
   "cell_type": "code",
   "execution_count": 4,
   "metadata": {},
   "outputs": [],
   "source": [
    "# Adding CPDs to the model\n",
    "model.add_cpds(cpd_t, cpd_q, cpd_s, cpd_k, cpd_l)\n",
    "\n",
    "# Verify the model\n",
    "assert model.check_model()"
   ]
  },
  {
   "cell_type": "code",
   "execution_count": 5,
   "metadata": {},
   "outputs": [
    {
     "name": "stdout",
     "output_type": "stream",
     "text": [
      "Nodes in the Bayesian Network:\n",
      "['T', 'S', 'Q', 'K', 'L']\n",
      "\n",
      "Edges in the Bayesian Network:\n",
      "[('T', 'S'), ('S', 'K'), ('S', 'L'), ('Q', 'S')]\n"
     ]
    }
   ],
   "source": [
    "# Print the nodes\n",
    "print(\"Nodes in the Bayesian Network:\")\n",
    "print(model.nodes())\n",
    "\n",
    "# Print the edges\n",
    "print(\"\\nEdges in the Bayesian Network:\")\n",
    "print(model.edges())"
   ]
  }
 ],
 "metadata": {
  "kernelspec": {
   "display_name": "Python 3",
   "language": "python",
   "name": "python3"
  },
  "language_info": {
   "codemirror_mode": {
    "name": "ipython",
    "version": 3
   },
   "file_extension": ".py",
   "mimetype": "text/x-python",
   "name": "python",
   "nbconvert_exporter": "python",
   "pygments_lexer": "ipython3",
   "version": "3.12.2"
  }
 },
 "nbformat": 4,
 "nbformat_minor": 2
}
