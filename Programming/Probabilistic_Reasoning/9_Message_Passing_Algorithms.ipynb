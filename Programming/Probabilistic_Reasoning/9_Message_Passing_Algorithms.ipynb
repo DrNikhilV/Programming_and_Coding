{
 "cells": [
  {
   "cell_type": "code",
   "execution_count": 1,
   "metadata": {},
   "outputs": [
    {
     "name": "stderr",
     "output_type": "stream",
     "text": [
      "c:\\Users\\V Nikhil\\AppData\\Local\\Programs\\Python\\Python312\\Lib\\site-packages\\tqdm\\auto.py:21: TqdmWarning: IProgress not found. Please update jupyter and ipywidgets. See https://ipywidgets.readthedocs.io/en/stable/user_install.html\n",
      "  from .autonotebook import tqdm as notebook_tqdm\n"
     ]
    },
    {
     "name": "stdout",
     "output_type": "stream",
     "text": [
      "Marginal Probability of WetGrass:\n",
      "+-------------+-----------------+\n",
      "| WetGrass    |   phi(WetGrass) |\n",
      "+=============+=================+\n",
      "| WetGrass(0) |          0.3529 |\n",
      "+-------------+-----------------+\n",
      "| WetGrass(1) |          0.6471 |\n",
      "+-------------+-----------------+\n",
      "\n",
      "Marginal Probability of WetGrass given Sprinkler is True:\n",
      "+-------------+-----------------+\n",
      "| WetGrass    |   phi(WetGrass) |\n",
      "+=============+=================+\n",
      "| WetGrass(0) |          0.0730 |\n",
      "+-------------+-----------------+\n",
      "| WetGrass(1) |          0.9270 |\n",
      "+-------------+-----------------+\n",
      "\n",
      "Marginal Probability of Rain:\n",
      "+---------+-------------+\n",
      "| Rain    |   phi(Rain) |\n",
      "+=========+=============+\n",
      "| Rain(0) |      0.5000 |\n",
      "+---------+-------------+\n",
      "| Rain(1) |      0.5000 |\n",
      "+---------+-------------+\n"
     ]
    }
   ],
   "source": [
    "from pgmpy.models import BayesianNetwork\n",
    "from pgmpy.factors.discrete import TabularCPD\n",
    "from pgmpy.inference import BeliefPropagation\n",
    "\n",
    "model = BayesianNetwork([('Cloudy', 'Rain'), ('Cloudy', 'Sprinkler'), ('Sprinkler', 'WetGrass'), ('Rain', 'WetGrass')])\n",
    "\n",
    "cpd_cloudy = TabularCPD(variable='Cloudy', variable_card=2, values=[[0.5], [0.5]])\n",
    "\n",
    "cpd_sprinkler = TabularCPD(variable='Sprinkler', variable_card=2,\n",
    "                           values=[[0.5, 0.9], [0.5, 0.1]],\n",
    "                           evidence=['Cloudy'], evidence_card=[2])\n",
    "\n",
    "cpd_rain = TabularCPD(variable='Rain', variable_card=2,\n",
    "                      values=[[0.8, 0.2], [0.2, 0.8]],\n",
    "                      evidence=['Cloudy'], evidence_card=[2])\n",
    "\n",
    "cpd_wet_grass = TabularCPD(variable='WetGrass', variable_card=2,\n",
    "                           values=[[1.0, 0.1, 0.1, 0.01], [0.0, 0.9, 0.9, 0.99]],\n",
    "                           evidence=['Sprinkler', 'Rain'], evidence_card=[2, 2])\n",
    "\n",
    "model.add_cpds(cpd_cloudy, cpd_sprinkler, cpd_rain, cpd_wet_grass)\n",
    "\n",
    "assert model.check_model()\n",
    "\n",
    "belief_propagation = BeliefPropagation(model)\n",
    "\n",
    "result_wet_grass = belief_propagation.query(variables=['WetGrass'])\n",
    "print(\"Marginal Probability of WetGrass:\")\n",
    "print(result_wet_grass)\n",
    "\n",
    "result_given_evidence = belief_propagation.query(variables=['WetGrass'], evidence={'Sprinkler': 1})\n",
    "print(\"\\nMarginal Probability of WetGrass given Sprinkler is True:\")\n",
    "print(result_given_evidence)\n",
    "\n",
    "result_rain = belief_propagation.query(variables=['Rain'])\n",
    "print(\"\\nMarginal Probability of Rain:\")\n",
    "print(result_rain)"
   ]
  }
 ],
 "metadata": {
  "kernelspec": {
   "display_name": "Python 3",
   "language": "python",
   "name": "python3"
  },
  "language_info": {
   "codemirror_mode": {
    "name": "ipython",
    "version": 3
   },
   "file_extension": ".py",
   "mimetype": "text/x-python",
   "name": "python",
   "nbconvert_exporter": "python",
   "pygments_lexer": "ipython3",
   "version": "3.12.2"
  }
 },
 "nbformat": 4,
 "nbformat_minor": 2
}
