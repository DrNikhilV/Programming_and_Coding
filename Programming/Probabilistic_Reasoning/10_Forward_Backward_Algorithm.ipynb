{
 "cells": [
  {
   "cell_type": "code",
   "execution_count": 2,
   "metadata": {},
   "outputs": [
    {
     "name": "stdout",
     "output_type": "stream",
     "text": [
      "Smoothed Probabilities (gamma) at each timestep:\n",
      "Time 0: [0.23170296 0.76829704]\n",
      "Time 1: [0.62406283 0.37593717]\n",
      "Time 2: [0.86397715 0.13602285]\n"
     ]
    }
   ],
   "source": [
    "import numpy as np\n",
    "\n",
    "states = ['Rainy', 'Sunny']\n",
    "n_states = len(states)\n",
    "\n",
    "observations = ['Walk', 'Shop', 'Clean']\n",
    "n_observations = len(observations)\n",
    "\n",
    "A = np.array([[0.7, 0.3], \n",
    "              [0.4, 0.6]])  \n",
    "\n",
    "B = np.array([[0.1, 0.4, 0.5],  \n",
    "              [0.6, 0.3, 0.1]]) \n",
    "\n",
    "pi = np.array([0.6, 0.4])  \n",
    "\n",
    "obs_sequence = [0, 1, 2]  \n",
    "n_timesteps = len(obs_sequence)\n",
    "\n",
    "# Forward algorithm (alpha values)\n",
    "def forward(obs_sequence, A, B, pi):\n",
    "    n_states = A.shape[0]\n",
    "    n_timesteps = len(obs_sequence)\n",
    "    \n",
    "    alpha = np.zeros((n_timesteps, n_states))\n",
    "    \n",
    "    alpha[0, :] = pi * B[:, obs_sequence[0]]\n",
    "    \n",
    "    for t in range(1, n_timesteps):\n",
    "        for j in range(n_states):\n",
    "            alpha[t, j] = np.sum(alpha[t - 1, :] * A[:, j]) * B[j, obs_sequence[t]]\n",
    "    \n",
    "    return alpha\n",
    "\n",
    "# Backward algorithm (beta values)\n",
    "def backward(obs_sequence, A, B):\n",
    "    n_states = A.shape[0]\n",
    "    n_timesteps = len(obs_sequence)\n",
    "    \n",
    "    beta = np.zeros((n_timesteps, n_states))\n",
    "    \n",
    "    beta[n_timesteps - 1, :] = 1\n",
    "    \n",
    "    for t in range(n_timesteps - 2, -1, -1):\n",
    "        for i in range(n_states):\n",
    "            beta[t, i] = np.sum(A[i, :] * B[:, obs_sequence[t + 1]] * beta[t + 1, :])\n",
    "    \n",
    "    return beta\n",
    "\n",
    "def forward_backward(obs_sequence, A, B, pi):\n",
    "    alpha = forward(obs_sequence, A, B, pi)\n",
    "    beta = backward(obs_sequence, A, B)\n",
    "    gamma = (alpha * beta) / np.sum(alpha[-1, :])  \n",
    "    \n",
    "    return gamma\n",
    "\n",
    "gamma = forward_backward(obs_sequence, A, B, pi)\n",
    "\n",
    "print(\"Smoothed Probabilities (gamma) at each timestep:\")\n",
    "for t in range(n_timesteps):\n",
    "    print(f\"Time {t}: {gamma[t]}\")"
   ]
  },
  {
   "cell_type": "code",
   "execution_count": null,
   "metadata": {},
   "outputs": [],
   "source": []
  }
 ],
 "metadata": {
  "kernelspec": {
   "display_name": "Python 3",
   "language": "python",
   "name": "python3"
  },
  "language_info": {
   "codemirror_mode": {
    "name": "ipython",
    "version": 3
   },
   "file_extension": ".py",
   "mimetype": "text/x-python",
   "name": "python",
   "nbconvert_exporter": "python",
   "pygments_lexer": "ipython3",
   "version": "3.12.2"
  }
 },
 "nbformat": 4,
 "nbformat_minor": 2
}
