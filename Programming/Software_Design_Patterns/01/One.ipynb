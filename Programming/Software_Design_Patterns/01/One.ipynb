{
 "cells": [
  {
   "cell_type": "code",
   "execution_count": 1,
   "id": "347f65a9",
   "metadata": {},
   "outputs": [
    {
     "name": "stdout",
     "output_type": "stream",
     "text": [
      "Singleton objects equal: True\n",
      "Adapter result: Old system response\n",
      "Observer received: State Changed\n",
      "Observer received: State Changed\n"
     ]
    }
   ],
   "source": [
    "# Creational Pattern: Singleton\n",
    "class Singleton:\n",
    "    _instance = None\n",
    "\n",
    "    def __new__(cls):\n",
    "        if cls._instance is None:\n",
    "            cls._instance = super(Singleton, cls).__new__(cls)\n",
    "        return cls._instance\n",
    "\n",
    "\n",
    "# Structural Pattern: Adapter\n",
    "class OldSystem:\n",
    "    def old_request(self):\n",
    "        return \"Old system response\"\n",
    "\n",
    "\n",
    "class Adapter:\n",
    "    def __init__(self, old_system):\n",
    "        self.old_system = old_system\n",
    "\n",
    "    def new_request(self):\n",
    "        return self.old_system.old_request()\n",
    "\n",
    "\n",
    "# Behavioral Pattern: Observer\n",
    "class Observer:\n",
    "    def update(self, message):\n",
    "        print(f\"Observer received: {message}\")\n",
    "\n",
    "\n",
    "class Subject:\n",
    "    def __init__(self):\n",
    "        self.observers = []\n",
    "\n",
    "    def attach(self, observer):\n",
    "        self.observers.append(observer)\n",
    "\n",
    "    def notify(self, message):\n",
    "        for observer in self.observers:\n",
    "            observer.update(message)\n",
    "\n",
    "\n",
    "if __name__ == \"__main__\":\n",
    "    # Singleton\n",
    "    s1 = Singleton()\n",
    "    s2 = Singleton()\n",
    "    print(\"Singleton objects equal:\", s1 is s2)\n",
    "\n",
    "    # Adapter\n",
    "    old = OldSystem()\n",
    "    adapter = Adapter(old)\n",
    "    print(\"Adapter result:\", adapter.new_request())\n",
    "\n",
    "    # Observer\n",
    "    subject = Subject()\n",
    "    obs1, obs2 = Observer(), Observer()\n",
    "    subject.attach(obs1)\n",
    "    subject.attach(obs2)\n",
    "    subject.notify(\"State Changed\")"
   ]
  }
 ],
 "metadata": {
  "kernelspec": {
   "display_name": "Python 3",
   "language": "python",
   "name": "python3"
  },
  "language_info": {
   "codemirror_mode": {
    "name": "ipython",
    "version": 3
   },
   "file_extension": ".py",
   "mimetype": "text/x-python",
   "name": "python",
   "nbconvert_exporter": "python",
   "pygments_lexer": "ipython3",
   "version": "3.13.7"
  }
 },
 "nbformat": 4,
 "nbformat_minor": 5
}
