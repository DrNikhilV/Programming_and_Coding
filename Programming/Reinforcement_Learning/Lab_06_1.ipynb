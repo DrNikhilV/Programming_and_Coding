{
 "cells": [
  {
   "cell_type": "markdown",
   "id": "e6a8c38b",
   "metadata": {},
   "source": [
    "## LAB 6 "
   ]
  },
  {
   "cell_type": "markdown",
   "id": "59f56bbd",
   "metadata": {},
   "source": [
    "Objective:\n",
    "* To apply n-step Temporal Difference Learning in a robot rescue mission, where a robot navigates a maze like grid environment"
   ]
  },
  {
   "cell_type": "markdown",
   "id": "77fc9af4",
   "metadata": {},
   "source": [
    "Problem statement \n",
    "* Design and train a reinforcement learning agent using n-step bootstrapping to simulate a rescue robot \n",
    "navigating a grid environment. \n",
    "* The robot should learn an optimal policy to : \n",
    "Reach survivors efficiently, Avoid traps and Minimize movement cost in a dynamic, partially hostile \n",
    "environment. "
   ]
  },
  {
   "cell_type": "markdown",
   "id": "490f271d",
   "metadata": {},
   "source": [
    "### CODE"
   ]
  },
  {
   "cell_type": "code",
   "execution_count": 4,
   "id": "ded69cd7",
   "metadata": {},
   "outputs": [
    {
     "name": "stderr",
     "output_type": "stream",
     "text": [
      "MovieWriter ffmpeg unavailable; using Pillow instead.\n"
     ]
    },
    {
     "name": "stdout",
     "output_type": "stream",
     "text": [
      "✅ Training complete.\n"
     ]
    },
    {
     "ename": "ValueError",
     "evalue": "unknown file extension: .mp4",
     "output_type": "error",
     "traceback": [
      "\u001b[1;31m---------------------------------------------------------------------------\u001b[0m",
      "\u001b[1;31mKeyError\u001b[0m                                  Traceback (most recent call last)",
      "File \u001b[1;32mc:\\ProgramData\\anaconda3\\lib\\site-packages\\PIL\\Image.py:2408\u001b[0m, in \u001b[0;36mImage.save\u001b[1;34m(self, fp, format, **params)\u001b[0m\n\u001b[0;32m   2407\u001b[0m \u001b[38;5;28;01mtry\u001b[39;00m:\n\u001b[1;32m-> 2408\u001b[0m     \u001b[38;5;28mformat\u001b[39m \u001b[38;5;241m=\u001b[39m \u001b[43mEXTENSION\u001b[49m\u001b[43m[\u001b[49m\u001b[43mext\u001b[49m\u001b[43m]\u001b[49m\n\u001b[0;32m   2409\u001b[0m \u001b[38;5;28;01mexcept\u001b[39;00m \u001b[38;5;167;01mKeyError\u001b[39;00m \u001b[38;5;28;01mas\u001b[39;00m e:\n",
      "\u001b[1;31mKeyError\u001b[0m: '.mp4'",
      "\nThe above exception was the direct cause of the following exception:\n",
      "\u001b[1;31mValueError\u001b[0m                                Traceback (most recent call last)",
      "Cell \u001b[1;32mIn[4], line 164\u001b[0m\n\u001b[0;32m    161\u001b[0m anim \u001b[38;5;241m=\u001b[39m FuncAnimation(fig, update, frames\u001b[38;5;241m=\u001b[39m\u001b[38;5;28mlen\u001b[39m(steps), init_func\u001b[38;5;241m=\u001b[39minit, blit\u001b[38;5;241m=\u001b[39m\u001b[38;5;28;01mTrue\u001b[39;00m)\n\u001b[0;32m    163\u001b[0m \u001b[38;5;66;03m# Save the animation (optional)\u001b[39;00m\n\u001b[1;32m--> 164\u001b[0m \u001b[43manim\u001b[49m\u001b[38;5;241;43m.\u001b[39;49m\u001b[43msave\u001b[49m\u001b[43m(\u001b[49m\u001b[38;5;124;43m\"\u001b[39;49m\u001b[38;5;124;43mrescue_robot_animation.mp4\u001b[39;49m\u001b[38;5;124;43m\"\u001b[39;49m\u001b[43m,\u001b[49m\u001b[43m \u001b[49m\u001b[43mwriter\u001b[49m\u001b[38;5;241;43m=\u001b[39;49m\u001b[38;5;124;43m\"\u001b[39;49m\u001b[38;5;124;43mffmpeg\u001b[39;49m\u001b[38;5;124;43m\"\u001b[39;49m\u001b[43m,\u001b[49m\u001b[43m \u001b[49m\u001b[43mfps\u001b[49m\u001b[38;5;241;43m=\u001b[39;49m\u001b[38;5;241;43m2\u001b[39;49m\u001b[43m)\u001b[49m\n",
      "File \u001b[1;32mc:\\ProgramData\\anaconda3\\lib\\site-packages\\matplotlib\\animation.py:1077\u001b[0m, in \u001b[0;36mAnimation.save\u001b[1;34m(self, filename, writer, fps, dpi, codec, bitrate, extra_args, metadata, extra_anim, savefig_kwargs, progress_callback)\u001b[0m\n\u001b[0;32m   1073\u001b[0m savefig_kwargs[\u001b[38;5;124m'\u001b[39m\u001b[38;5;124mtransparent\u001b[39m\u001b[38;5;124m'\u001b[39m] \u001b[38;5;241m=\u001b[39m \u001b[38;5;28;01mFalse\u001b[39;00m   \u001b[38;5;66;03m# just to be safe!\u001b[39;00m\n\u001b[0;32m   1074\u001b[0m \u001b[38;5;66;03m# canvas._is_saving = True makes the draw_event animation-starting\u001b[39;00m\n\u001b[0;32m   1075\u001b[0m \u001b[38;5;66;03m# callback a no-op; canvas.manager = None prevents resizing the GUI\u001b[39;00m\n\u001b[0;32m   1076\u001b[0m \u001b[38;5;66;03m# widget (both are likewise done in savefig()).\u001b[39;00m\n\u001b[1;32m-> 1077\u001b[0m \u001b[38;5;28;01mwith\u001b[39;00m mpl\u001b[38;5;241m.\u001b[39mrc_context({\u001b[38;5;124m'\u001b[39m\u001b[38;5;124msavefig.bbox\u001b[39m\u001b[38;5;124m'\u001b[39m: \u001b[38;5;28;01mNone\u001b[39;00m}), \\\n\u001b[0;32m   1078\u001b[0m      writer\u001b[38;5;241m.\u001b[39msaving(\u001b[38;5;28mself\u001b[39m\u001b[38;5;241m.\u001b[39m_fig, filename, dpi), \\\n\u001b[0;32m   1079\u001b[0m      cbook\u001b[38;5;241m.\u001b[39m_setattr_cm(\u001b[38;5;28mself\u001b[39m\u001b[38;5;241m.\u001b[39m_fig\u001b[38;5;241m.\u001b[39mcanvas,\n\u001b[0;32m   1080\u001b[0m                        _is_saving\u001b[38;5;241m=\u001b[39m\u001b[38;5;28;01mTrue\u001b[39;00m, manager\u001b[38;5;241m=\u001b[39m\u001b[38;5;28;01mNone\u001b[39;00m):\n\u001b[0;32m   1081\u001b[0m     \u001b[38;5;28;01mfor\u001b[39;00m anim \u001b[38;5;129;01min\u001b[39;00m all_anim:\n\u001b[0;32m   1082\u001b[0m         anim\u001b[38;5;241m.\u001b[39m_init_draw()  \u001b[38;5;66;03m# Clear the initial frame\u001b[39;00m\n",
      "File \u001b[1;32mc:\\ProgramData\\anaconda3\\lib\\contextlib.py:142\u001b[0m, in \u001b[0;36m_GeneratorContextManager.__exit__\u001b[1;34m(self, typ, value, traceback)\u001b[0m\n\u001b[0;32m    140\u001b[0m \u001b[38;5;28;01mif\u001b[39;00m typ \u001b[38;5;129;01mis\u001b[39;00m \u001b[38;5;28;01mNone\u001b[39;00m:\n\u001b[0;32m    141\u001b[0m     \u001b[38;5;28;01mtry\u001b[39;00m:\n\u001b[1;32m--> 142\u001b[0m         \u001b[38;5;28;43mnext\u001b[39;49m\u001b[43m(\u001b[49m\u001b[38;5;28;43mself\u001b[39;49m\u001b[38;5;241;43m.\u001b[39;49m\u001b[43mgen\u001b[49m\u001b[43m)\u001b[49m\n\u001b[0;32m    143\u001b[0m     \u001b[38;5;28;01mexcept\u001b[39;00m \u001b[38;5;167;01mStopIteration\u001b[39;00m:\n\u001b[0;32m    144\u001b[0m         \u001b[38;5;28;01mreturn\u001b[39;00m \u001b[38;5;28;01mFalse\u001b[39;00m\n",
      "File \u001b[1;32mc:\\ProgramData\\anaconda3\\lib\\site-packages\\matplotlib\\animation.py:233\u001b[0m, in \u001b[0;36mAbstractMovieWriter.saving\u001b[1;34m(self, fig, outfile, dpi, *args, **kwargs)\u001b[0m\n\u001b[0;32m    231\u001b[0m     \u001b[38;5;28;01myield\u001b[39;00m \u001b[38;5;28mself\u001b[39m\n\u001b[0;32m    232\u001b[0m \u001b[38;5;28;01mfinally\u001b[39;00m:\n\u001b[1;32m--> 233\u001b[0m     \u001b[38;5;28;43mself\u001b[39;49m\u001b[38;5;241;43m.\u001b[39;49m\u001b[43mfinish\u001b[49m\u001b[43m(\u001b[49m\u001b[43m)\u001b[49m\n",
      "File \u001b[1;32mc:\\ProgramData\\anaconda3\\lib\\site-packages\\matplotlib\\animation.py:497\u001b[0m, in \u001b[0;36mPillowWriter.finish\u001b[1;34m(self)\u001b[0m\n\u001b[0;32m    496\u001b[0m \u001b[38;5;28;01mdef\u001b[39;00m \u001b[38;5;21mfinish\u001b[39m(\u001b[38;5;28mself\u001b[39m):\n\u001b[1;32m--> 497\u001b[0m     \u001b[38;5;28;43mself\u001b[39;49m\u001b[38;5;241;43m.\u001b[39;49m\u001b[43m_frames\u001b[49m\u001b[43m[\u001b[49m\u001b[38;5;241;43m0\u001b[39;49m\u001b[43m]\u001b[49m\u001b[38;5;241;43m.\u001b[39;49m\u001b[43msave\u001b[49m\u001b[43m(\u001b[49m\n\u001b[0;32m    498\u001b[0m \u001b[43m        \u001b[49m\u001b[38;5;28;43mself\u001b[39;49m\u001b[38;5;241;43m.\u001b[39;49m\u001b[43moutfile\u001b[49m\u001b[43m,\u001b[49m\u001b[43m \u001b[49m\u001b[43msave_all\u001b[49m\u001b[38;5;241;43m=\u001b[39;49m\u001b[38;5;28;43;01mTrue\u001b[39;49;00m\u001b[43m,\u001b[49m\u001b[43m \u001b[49m\u001b[43mappend_images\u001b[49m\u001b[38;5;241;43m=\u001b[39;49m\u001b[38;5;28;43mself\u001b[39;49m\u001b[38;5;241;43m.\u001b[39;49m\u001b[43m_frames\u001b[49m\u001b[43m[\u001b[49m\u001b[38;5;241;43m1\u001b[39;49m\u001b[43m:\u001b[49m\u001b[43m]\u001b[49m\u001b[43m,\u001b[49m\n\u001b[0;32m    499\u001b[0m \u001b[43m        \u001b[49m\u001b[43mduration\u001b[49m\u001b[38;5;241;43m=\u001b[39;49m\u001b[38;5;28;43mint\u001b[39;49m\u001b[43m(\u001b[49m\u001b[38;5;241;43m1000\u001b[39;49m\u001b[43m \u001b[49m\u001b[38;5;241;43m/\u001b[39;49m\u001b[43m \u001b[49m\u001b[38;5;28;43mself\u001b[39;49m\u001b[38;5;241;43m.\u001b[39;49m\u001b[43mfps\u001b[49m\u001b[43m)\u001b[49m\u001b[43m,\u001b[49m\u001b[43m \u001b[49m\u001b[43mloop\u001b[49m\u001b[38;5;241;43m=\u001b[39;49m\u001b[38;5;241;43m0\u001b[39;49m\u001b[43m)\u001b[49m\n",
      "File \u001b[1;32mc:\\ProgramData\\anaconda3\\lib\\site-packages\\PIL\\Image.py:2411\u001b[0m, in \u001b[0;36mImage.save\u001b[1;34m(self, fp, format, **params)\u001b[0m\n\u001b[0;32m   2409\u001b[0m     \u001b[38;5;28;01mexcept\u001b[39;00m \u001b[38;5;167;01mKeyError\u001b[39;00m \u001b[38;5;28;01mas\u001b[39;00m e:\n\u001b[0;32m   2410\u001b[0m         msg \u001b[38;5;241m=\u001b[39m \u001b[38;5;124mf\u001b[39m\u001b[38;5;124m\"\u001b[39m\u001b[38;5;124munknown file extension: \u001b[39m\u001b[38;5;132;01m{\u001b[39;00mext\u001b[38;5;132;01m}\u001b[39;00m\u001b[38;5;124m\"\u001b[39m\n\u001b[1;32m-> 2411\u001b[0m         \u001b[38;5;28;01mraise\u001b[39;00m \u001b[38;5;167;01mValueError\u001b[39;00m(msg) \u001b[38;5;28;01mfrom\u001b[39;00m \u001b[38;5;21;01me\u001b[39;00m\n\u001b[0;32m   2413\u001b[0m \u001b[38;5;28;01mif\u001b[39;00m \u001b[38;5;28mformat\u001b[39m\u001b[38;5;241m.\u001b[39mupper() \u001b[38;5;129;01mnot\u001b[39;00m \u001b[38;5;129;01min\u001b[39;00m SAVE:\n\u001b[0;32m   2414\u001b[0m     init()\n",
      "\u001b[1;31mValueError\u001b[0m: unknown file extension: .mp4"
     ]
    },
    {
     "data": {
      "image/png": "[encoded data removed]",
      "text/plain": [
       "<Figure size 600x600 with 1 Axes>"
      ]
     },
     "metadata": {},
     "output_type": "display_data"
    }
   ],
   "source": [
    "import numpy as np\n",
    "import matplotlib.pyplot as plt\n",
    "import matplotlib.patches as patches\n",
    "from matplotlib.animation import FuncAnimation\n",
    "from collections import deque\n",
    "import random\n",
    "\n",
    "# ====== Parameters ======\n",
    "GRID_SIZE = 6\n",
    "ACTIONS = ['U', 'D', 'L', 'R']\n",
    "ACTION_MAP = {'U': (-1, 0), 'D': (1, 0), 'L': (0, -1), 'R': (0, 1)}\n",
    "n_steps = 3\n",
    "gamma = 0.9\n",
    "alpha = 0.1\n",
    "epsilon = 0.2\n",
    "episodes = 3000\n",
    "max_steps = 50\n",
    "\n",
    "SURVIVORS = [(0, 5), (3, 3), (5, 1)]\n",
    "TRAPS = [(1, 2), (4, 4)]\n",
    "\n",
    "GOAL_REWARD = 10\n",
    "TRAP_PENALTY = -10\n",
    "STEP_COST = -1\n",
    "\n",
    "Q = {}  # Q-table\n",
    "\n",
    "\n",
    "# ====== Environment Functions ======\n",
    "\n",
    "def init_state():\n",
    "    \"\"\"Initialize robot in a random position not in survivors or traps.\"\"\"\n",
    "    while True:\n",
    "        s = (random.randint(0, GRID_SIZE - 1), random.randint(0, GRID_SIZE - 1))\n",
    "        if s not in SURVIVORS and s not in TRAPS:\n",
    "            return s\n",
    "\n",
    "\n",
    "def get_valid_actions(pos):\n",
    "    \"\"\"Get valid actions within grid boundaries.\"\"\"\n",
    "    valid = []\n",
    "    for a, (dx, dy) in ACTION_MAP.items():\n",
    "        nx, ny = pos[0] + dx, pos[1] + dy\n",
    "        if 0 <= nx < GRID_SIZE and 0 <= ny < GRID_SIZE:\n",
    "            valid.append(a)\n",
    "    return valid\n",
    "\n",
    "\n",
    "def select_action(state):\n",
    "    \"\"\"Epsilon-greedy policy for action selection.\"\"\"\n",
    "    valid_actions = get_valid_actions(state)\n",
    "    if state not in Q:\n",
    "        Q[state] = {a: 0 for a in valid_actions}\n",
    "    else:\n",
    "        for a in valid_actions:\n",
    "            if a not in Q[state]:\n",
    "                Q[state][a] = 0\n",
    "\n",
    "    if not valid_actions:\n",
    "        return random.choice(ACTIONS)\n",
    "\n",
    "    if np.random.rand() < epsilon:\n",
    "        return random.choice(valid_actions)\n",
    "\n",
    "    return max(Q[state], key=Q[state].get)\n",
    "\n",
    "\n",
    "def step(state, action):\n",
    "    \"\"\"Take a step and return the next state and reward.\"\"\"\n",
    "    dx, dy = ACTION_MAP[action]\n",
    "    next_state = (state[0] + dx, state[1] + dy)\n",
    "    reward = STEP_COST\n",
    "    if next_state in SURVIVORS:\n",
    "        reward += GOAL_REWARD\n",
    "    elif next_state in TRAPS:\n",
    "        reward += TRAP_PENALTY\n",
    "    return next_state, reward\n",
    "\n",
    "\n",
    "# ====== Training Phase ======\n",
    "for ep in range(episodes):\n",
    "    state = init_state()\n",
    "    if state not in Q:\n",
    "        Q[state] = {a: 0 for a in get_valid_actions(state)}\n",
    "\n",
    "    trajectory = deque()\n",
    "\n",
    "    for step_i in range(max_steps):\n",
    "        action = select_action(state)\n",
    "        next_state, reward = step(state, action)\n",
    "\n",
    "        trajectory.append((state, action, reward))\n",
    "\n",
    "        if len(trajectory) >= n_steps:\n",
    "            G = sum([trajectory[i][2] * (gamma ** i) for i in range(n_steps)])\n",
    "            s0, a0, _ = trajectory.popleft()\n",
    "            if next_state not in Q:\n",
    "                Q[next_state] = {a: 0 for a in get_valid_actions(next_state)}\n",
    "            G += (gamma ** n_steps) * max(Q[next_state].values())\n",
    "            Q[s0][a0] += alpha * (G - Q[s0][a0])\n",
    "\n",
    "        state = next_state\n",
    "\n",
    "    # Handle remaining trajectory after episode ends\n",
    "    while trajectory:\n",
    "        G = sum([trajectory[i][2] * (gamma ** i) for i in range(len(trajectory))])\n",
    "        s0, a0, _ = trajectory.popleft()\n",
    "        if s0 not in Q:\n",
    "            Q[s0] = {a: 0 for a in get_valid_actions(s0)}\n",
    "        Q[s0][a0] += alpha * (G - Q[s0][a0])\n",
    "\n",
    "print(\"✅ Training complete.\")\n",
    "\n",
    "\n",
    "# ====== Simulation for Visualization ======\n",
    "\n",
    "state = init_state()\n",
    "steps = [state]\n",
    "for _ in range(20):\n",
    "    action = select_action(state)\n",
    "    state, _ = step(state, action)\n",
    "    steps.append(state)\n",
    "\n",
    "\n",
    "# ====== Animation Code ======\n",
    "\n",
    "fig, ax = plt.subplots(figsize=(6, 6))\n",
    "robot_patch = patches.Circle((0.5, 0.5), 0.3, color='blue')\n",
    "\n",
    "\n",
    "def init():\n",
    "    ax.clear()\n",
    "    ax.set_xlim(0, GRID_SIZE)\n",
    "    ax.set_ylim(0, GRID_SIZE)\n",
    "    ax.set_xticks(np.arange(GRID_SIZE + 1))\n",
    "    ax.set_yticks(np.arange(GRID_SIZE + 1))\n",
    "    ax.grid(True)\n",
    "\n",
    "    for i in range(GRID_SIZE):\n",
    "        for j in range(GRID_SIZE):\n",
    "            cell = (i, j)\n",
    "            color = 'white'\n",
    "            if cell in TRAPS:\n",
    "                color = 'red'\n",
    "            elif cell in SURVIVORS:\n",
    "                color = 'green'\n",
    "            rect = patches.Rectangle((j, GRID_SIZE - i - 1), 1, 1, facecolor=color)\n",
    "            ax.add_patch(rect)\n",
    "\n",
    "    return []\n",
    "\n",
    "\n",
    "def update(frame):\n",
    "    init()\n",
    "    rx, ry = steps[frame]\n",
    "    robot_patch.center = (ry + 0.5, GRID_SIZE - rx - 0.5)\n",
    "    ax.add_patch(robot_patch)\n",
    "    return [robot_patch]\n",
    "\n",
    "\n",
    "anim = FuncAnimation(fig, update, frames=len(steps), init_func=init, blit=True)\n",
    "\n",
    "# Save the animation (optional)\n",
    "anim.save(\"rescue_robot_animation.mp4\", writer=\"ffmpeg\", fps=2)\n",
    "\n",
    "# To display in Jupyter Notebooks:\n",
    "# from IPython.display import HTML\n",
    "# HTML(anim.to_jshtml())\n"
   ]
  },
  {
   "cell_type": "code",
   "execution_count": 6,
   "id": "dd65ad90",
   "metadata": {},
   "outputs": [
    {
     "data": {
      "image/png": "[encoded data removed]",
      "text/plain": [
       "<Figure size 600x600 with 1 Axes>"
      ]
     },
     "metadata": {},
     "output_type": "display_data"
    },
    {
     "data": {
      "text/plain": [
       "<Figure size 640x480 with 0 Axes>"
      ]
     },
     "metadata": {},
     "output_type": "display_data"
    },
    {
     "data": {
      "text/plain": [
       "<Figure size 640x480 with 0 Axes>"
      ]
     },
     "metadata": {},
     "output_type": "display_data"
    },
    {
     "data": {
      "text/plain": [
       "<Figure size 640x480 with 0 Axes>"
      ]
     },
     "metadata": {},
     "output_type": "display_data"
    },
    {
     "data": {
      "text/plain": [
       "<Figure size 640x480 with 0 Axes>"
      ]
     },
     "metadata": {},
     "output_type": "display_data"
    },
    {
     "data": {
      "text/plain": [
       "<Figure size 640x480 with 0 Axes>"
      ]
     },
     "metadata": {},
     "output_type": "display_data"
    },
    {
     "data": {
      "text/plain": [
       "<Figure size 640x480 with 0 Axes>"
      ]
     },
     "metadata": {},
     "output_type": "display_data"
    },
    {
     "data": {
      "text/plain": [
       "<Figure size 640x480 with 0 Axes>"
      ]
     },
     "metadata": {},
     "output_type": "display_data"
    },
    {
     "data": {
      "text/plain": [
       "<Figure size 640x480 with 0 Axes>"
      ]
     },
     "metadata": {},
     "output_type": "display_data"
    },
    {
     "data": {
      "text/plain": [
       "<Figure size 640x480 with 0 Axes>"
      ]
     },
     "metadata": {},
     "output_type": "display_data"
    },
    {
     "data": {
      "text/plain": [
       "<Figure size 640x480 with 0 Axes>"
      ]
     },
     "metadata": {},
     "output_type": "display_data"
    },
    {
     "data": {
      "text/plain": [
       "<Figure size 640x480 with 0 Axes>"
      ]
     },
     "metadata": {},
     "output_type": "display_data"
    },
    {
     "data": {
      "text/plain": [
       "<Figure size 640x480 with 0 Axes>"
      ]
     },
     "metadata": {},
     "output_type": "display_data"
    },
    {
     "data": {
      "text/plain": [
       "<Figure size 640x480 with 0 Axes>"
      ]
     },
     "metadata": {},
     "output_type": "display_data"
    },
    {
     "data": {
      "text/plain": [
       "<Figure size 640x480 with 0 Axes>"
      ]
     },
     "metadata": {},
     "output_type": "display_data"
    },
    {
     "data": {
      "text/plain": [
       "<Figure size 640x480 with 0 Axes>"
      ]
     },
     "metadata": {},
     "output_type": "display_data"
    },
    {
     "data": {
      "text/plain": [
       "<Figure size 640x480 with 0 Axes>"
      ]
     },
     "metadata": {},
     "output_type": "display_data"
    },
    {
     "data": {
      "text/plain": [
       "<Figure size 640x480 with 0 Axes>"
      ]
     },
     "metadata": {},
     "output_type": "display_data"
    },
    {
     "data": {
      "text/plain": [
       "<Figure size 640x480 with 0 Axes>"
      ]
     },
     "metadata": {},
     "output_type": "display_data"
    },
    {
     "data": {
      "text/plain": [
       "<Figure size 640x480 with 0 Axes>"
      ]
     },
     "metadata": {},
     "output_type": "display_data"
    },
    {
     "data": {
      "text/plain": [
       "<Figure size 640x480 with 0 Axes>"
      ]
     },
     "metadata": {},
     "output_type": "display_data"
    },
    {
     "data": {
      "text/plain": [
       "<Figure size 640x480 with 0 Axes>"
      ]
     },
     "metadata": {},
     "output_type": "display_data"
    }
   ],
   "source": [
    "import matplotlib.pyplot as plt\n",
    "import matplotlib.patches as patches\n",
    "import time\n",
    "\n",
    "def show_steps(steps):\n",
    "    fig, ax = plt.subplots(figsize=(6, 6))\n",
    "    robot_patch = patches.Circle((0.5, 0.5), 0.3, color='blue')\n",
    "\n",
    "    def draw_grid():\n",
    "        ax.clear()\n",
    "        ax.set_xlim(0, GRID_SIZE)\n",
    "        ax.set_ylim(0, GRID_SIZE)\n",
    "        ax.set_xticks(range(GRID_SIZE + 1))\n",
    "        ax.set_yticks(range(GRID_SIZE + 1))\n",
    "        ax.grid(True)\n",
    "        for i in range(GRID_SIZE):\n",
    "            for j in range(GRID_SIZE):\n",
    "                cell = (i, j)\n",
    "                color = 'white'\n",
    "                if cell in TRAPS:\n",
    "                    color = 'red'\n",
    "                elif cell in SURVIVORS:\n",
    "                    color = 'green'\n",
    "                rect = patches.Rectangle((j, GRID_SIZE - i - 1), 1, 1, facecolor=color)\n",
    "                ax.add_patch(rect)\n",
    "\n",
    "    for step_num, (rx, ry) in enumerate(steps):\n",
    "        draw_grid()\n",
    "        robot_patch.center = (ry + 0.5, GRID_SIZE - rx - 0.5)\n",
    "        ax.add_patch(robot_patch)\n",
    "        ax.set_title(f\"Step {step_num}\")\n",
    "        plt.pause(0.5)  # pause to show frame for half a second\n",
    "        plt.draw()\n",
    "    \n",
    "    plt.show()\n",
    "\n",
    "# Call this function with your steps list\n",
    "show_steps(steps)\n"
   ]
  }
 ],
 "metadata": {
  "kernelspec": {
   "display_name": "base",
   "language": "python",
   "name": "python3"
  },
  "language_info": {
   "codemirror_mode": {
    "name": "ipython",
    "version": 3
   },
   "file_extension": ".py",
   "mimetype": "text/x-python",
   "name": "python",
   "nbconvert_exporter": "python",
   "pygments_lexer": "ipython3",
   "version": "3.10.9"
  }
 },
 "nbformat": 4,
 "nbformat_minor": 5
}
