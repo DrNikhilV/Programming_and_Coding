{
 "cells": [
  {
   "cell_type": "markdown",
   "metadata": {},
   "source": [
    "Encryption"
   ]
  },
  {
   "cell_type": "code",
   "execution_count": 1,
   "metadata": {},
   "outputs": [],
   "source": [
    "def row_transposition_encrypt(plaintext, key):\n",
    "    num_columns = len(key)\n",
    "    plaintext = plaintext.replace(\" \", \"\")\n",
    "\n",
    "    # Pad the plaintext to make it fit into the matrix\n",
    "    num_rows = -(-len(plaintext) // num_columns)  # Ceiling division\n",
    "    padded_plaintext = plaintext.ljust(num_rows * num_columns, 'X')\n",
    "\n",
    "    # Create the matrix\n",
    "    matrix = [padded_plaintext[i:i+num_columns] for i in range(0, len(padded_plaintext), num_columns)]\n",
    "\n",
    "    # Reorder columns based on the key\n",
    "    ciphertext = \"\"\n",
    "    for col_index in sorted(range(len(key)), key=lambda x: key[x]):\n",
    "        for row in matrix:\n",
    "            ciphertext += row[col_index]\n",
    "\n",
    "    return ciphertext"
   ]
  },
  {
   "cell_type": "markdown",
   "metadata": {},
   "source": [
    "Decryption"
   ]
  },
  {
   "cell_type": "code",
   "execution_count": 2,
   "metadata": {},
   "outputs": [],
   "source": [
    "def row_transposition_decrypt(ciphertext, key):\n",
    "    num_columns = len(key)\n",
    "    num_rows = len(ciphertext) // num_columns\n",
    "\n",
    "    # Reorder columns to their original positions\n",
    "    inverse_key = sorted(range(len(key)), key=lambda x: key[x])\n",
    "\n",
    "    # Create the decryption matrix\n",
    "    matrix = [\"\" for _ in range(num_rows)]\n",
    "    index = 0\n",
    "    for col_index in inverse_key:\n",
    "        for row_index in range(num_rows):\n",
    "            matrix[row_index] += ciphertext[index]\n",
    "            index += 1\n",
    "\n",
    "    # Flatten the matrix to get the plaintext\n",
    "    plaintext = \"\".join(matrix).rstrip('X')  # Remove padding\n",
    "\n",
    "    return plaintext"
   ]
  },
  {
   "cell_type": "code",
   "execution_count": 3,
   "metadata": {},
   "outputs": [],
   "source": [
    "plaintext = \"meet at the school house\"\n",
    "key = [3, 1, 4, 2, 5]  # Column order"
   ]
  },
  {
   "cell_type": "code",
   "execution_count": 4,
   "metadata": {},
   "outputs": [
    {
     "name": "stdout",
     "output_type": "stream",
     "text": [
      "Ciphertext: ethoteosmtchehouasle\n"
     ]
    }
   ],
   "source": [
    "# Encrypt\n",
    "ciphertext = row_transposition_encrypt(plaintext, key)\n",
    "print(f\"Ciphertext: {ciphertext}\")"
   ]
  },
  {
   "cell_type": "code",
   "execution_count": 5,
   "metadata": {},
   "outputs": [
    {
     "name": "stdout",
     "output_type": "stream",
     "text": [
      "Decrypted Text: etmeatethshocoloshue\n"
     ]
    }
   ],
   "source": [
    "# Decrypt\n",
    "decrypted_text = row_transposition_decrypt(ciphertext, key)\n",
    "print(f\"Decrypted Text: {decrypted_text}\")"
   ]
  }
 ],
 "metadata": {
  "kernelspec": {
   "display_name": "Python 3",
   "language": "python",
   "name": "python3"
  },
  "language_info": {
   "codemirror_mode": {
    "name": "ipython",
    "version": 3
   },
   "file_extension": ".py",
   "mimetype": "text/x-python",
   "name": "python",
   "nbconvert_exporter": "python",
   "pygments_lexer": "ipython3",
   "version": "3.11.9"
  }
 },
 "nbformat": 4,
 "nbformat_minor": 2
}
