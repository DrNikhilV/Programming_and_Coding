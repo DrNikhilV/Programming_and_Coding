{
 "cells": [
  {
   "cell_type": "markdown",
   "metadata": {},
   "source": [
    "Name: Nikhil V\n",
    "\n",
    "Roll No: CH.EN.U4AIE22038\n",
    "\n",
    "COMPUTER SECURITY LAB"
   ]
  },
  {
   "cell_type": "markdown",
   "metadata": {},
   "source": [
    "# Vigenere Cipher"
   ]
  },
  {
   "cell_type": "markdown",
   "metadata": {},
   "source": [
    "Encryption"
   ]
  },
  {
   "cell_type": "code",
   "execution_count": 1,
   "metadata": {},
   "outputs": [],
   "source": [
    "def vigenere_encrypt(plaintext, key):\n",
    "    plaintext = plaintext.replace(\" \", \"\").upper()\n",
    "    key = key.upper()\n",
    "    ciphertext = \"\"\n",
    "    \n",
    "    key_index = 0\n",
    "    for char in plaintext:\n",
    "        if char.isalpha():\n",
    "            shift = ord(key[key_index]) - ord('A')\n",
    "            encrypted_char = chr(((ord(char) - ord('A') + shift) % 26) + ord('A'))\n",
    "            ciphertext += encrypted_char\n",
    "            key_index = (key_index + 1) % len(key)\n",
    "        else:\n",
    "            ciphertext += char\n",
    "    return ciphertext"
   ]
  },
  {
   "cell_type": "markdown",
   "metadata": {},
   "source": [
    "Decryption"
   ]
  },
  {
   "cell_type": "code",
   "execution_count": 2,
   "metadata": {},
   "outputs": [],
   "source": [
    "def vigenere_decrypt(ciphertext, key):\n",
    "    ciphertext = ciphertext.upper()\n",
    "    key = key.upper()\n",
    "    plaintext = \"\"\n",
    "    \n",
    "    key_index = 0\n",
    "    for char in ciphertext:\n",
    "        if char.isalpha():\n",
    "            shift = ord(key[key_index]) - ord('A')\n",
    "            decrypted_char = chr(((ord(char) - ord('A') - shift + 26) % 26) + ord('A'))\n",
    "            plaintext += decrypted_char\n",
    "            key_index = (key_index + 1) % len(key)\n",
    "        else:\n",
    "            plaintext += char\n",
    "    return plaintext"
   ]
  },
  {
   "cell_type": "code",
   "execution_count": 3,
   "metadata": {},
   "outputs": [],
   "source": [
    "plaintext = \"we have been discovered save yourself\"\n",
    "key = \"deactivate\""
   ]
  },
  {
   "cell_type": "code",
   "execution_count": 4,
   "metadata": {},
   "outputs": [
    {
     "name": "stdout",
     "output_type": "stream",
     "text": [
      "Ciphertext: ZIHCOMWEXRGMSEHDZRXHVEVGRWPRLIOJ\n"
     ]
    }
   ],
   "source": [
    "# Encrypt\n",
    "ciphertext = vigenere_encrypt(plaintext, key)\n",
    "print(f\"Ciphertext: {ciphertext}\")"
   ]
  },
  {
   "cell_type": "code",
   "execution_count": 5,
   "metadata": {},
   "outputs": [
    {
     "name": "stdout",
     "output_type": "stream",
     "text": [
      "Decrypted Text: WEHAVEBEENDISCOVEREDSAVEYOURSELF\n"
     ]
    }
   ],
   "source": [
    "# Decrypt\n",
    "decrypted_text = vigenere_decrypt(ciphertext, key)\n",
    "print(f\"Decrypted Text: {decrypted_text}\")"
   ]
  },
  {
   "cell_type": "code",
   "execution_count": 6,
   "metadata": {},
   "outputs": [],
   "source": [
    "plaintext = \"the aliens have arrived to our planet\"\n",
    "key = \"invasion\""
   ]
  },
  {
   "cell_type": "code",
   "execution_count": 7,
   "metadata": {},
   "outputs": [
    {
     "name": "stdout",
     "output_type": "stream",
     "text": [
      "Ciphertext: BUZADQSAAUVVWIFEQIZDLWCHZCGAFMH\n"
     ]
    }
   ],
   "source": [
    "# Encrypt\n",
    "ciphertext = vigenere_encrypt(plaintext, key)\n",
    "print(f\"Ciphertext: {ciphertext}\")"
   ]
  },
  {
   "cell_type": "code",
   "execution_count": 8,
   "metadata": {},
   "outputs": [
    {
     "name": "stdout",
     "output_type": "stream",
     "text": [
      "Decrypted Text: THEALIENSHAVEARRIVEDTOOURPLANET\n"
     ]
    }
   ],
   "source": [
    "# Decrypt\n",
    "decrypted_text = vigenere_decrypt(ciphertext, key)\n",
    "print(f\"Decrypted Text: {decrypted_text}\")"
   ]
  },
  {
   "cell_type": "markdown",
   "metadata": {},
   "source": [
    "Encryption and decryption using the Vigenère Cipher were performed successfully, illustrating the polyalphabetic substitution mechanism."
   ]
  }
 ],
 "metadata": {
  "kernelspec": {
   "display_name": "Python 3",
   "language": "python",
   "name": "python3"
  },
  "language_info": {
   "codemirror_mode": {
    "name": "ipython",
    "version": 3
   },
   "file_extension": ".py",
   "mimetype": "text/x-python",
   "name": "python",
   "nbconvert_exporter": "python",
   "pygments_lexer": "ipython3",
   "version": "3.11.9"
  }
 },
 "nbformat": 4,
 "nbformat_minor": 2
}
