{
 "cells": [
  {
   "cell_type": "markdown",
   "metadata": {},
   "source": [
    "Name: Nikhil V\n",
    "\n",
    "Roll No: CH.EN.U4AIE22038\n",
    "\n",
    "COMPUTER SECURITY LAB"
   ]
  },
  {
   "cell_type": "markdown",
   "metadata": {},
   "source": [
    "# Advanced Encryption Standard (AES)"
   ]
  },
  {
   "cell_type": "code",
   "execution_count": 7,
   "metadata": {},
   "outputs": [],
   "source": [
    "from Crypto.Cipher import AES\n",
    "from Crypto.Random import get_random_bytes"
   ]
  },
  {
   "cell_type": "code",
   "execution_count": 8,
   "metadata": {},
   "outputs": [],
   "source": [
    "# Function to add PKCS#7 padding\n",
    "def pad(data):\n",
    "    pad_length = AES.block_size - len(data) % AES.block_size\n",
    "    return data + bytes([pad_length] * pad_length)"
   ]
  },
  {
   "cell_type": "code",
   "execution_count": 9,
   "metadata": {},
   "outputs": [],
   "source": [
    "# Function to remove PKCS#7 padding\n",
    "def unpad(data):\n",
    "    pad_length = data[-1]\n",
    "    return data[:-pad_length]"
   ]
  },
  {
   "cell_type": "code",
   "execution_count": 10,
   "metadata": {},
   "outputs": [],
   "source": [
    "def aes_encrypt(plaintext, key):\n",
    "    cipher = AES.new(key, AES.MODE_ECB)  # AES ECB mode for simplicity (not recommended for real-world use)\n",
    "    padded_plaintext = pad(plaintext)\n",
    "    ciphertext = cipher.encrypt(padded_plaintext)\n",
    "    return ciphertext"
   ]
  },
  {
   "cell_type": "code",
   "execution_count": 11,
   "metadata": {},
   "outputs": [],
   "source": [
    "def aes_decrypt(ciphertext, key):\n",
    "    cipher = AES.new(key, AES.MODE_ECB)\n",
    "    padded_plaintext = cipher.decrypt(ciphertext)\n",
    "    plaintext = unpad(padded_plaintext)\n",
    "    return plaintext"
   ]
  },
  {
   "cell_type": "code",
   "execution_count": 19,
   "metadata": {},
   "outputs": [],
   "source": [
    "key = get_random_bytes(16)\n",
    "plaintext = b'This is a secret message'\n",
    "ciphertext = aes_encrypt(plaintext, key)\n",
    "decrypted_text = aes_decrypt(ciphertext, key)"
   ]
  },
  {
   "cell_type": "code",
   "execution_count": 14,
   "metadata": {},
   "outputs": [
    {
     "name": "stdout",
     "output_type": "stream",
     "text": [
      "Plaintext:  This is a secret message\n"
     ]
    }
   ],
   "source": [
    "print(\"Plaintext: \", plaintext)"
   ]
  },
  {
   "cell_type": "code",
   "execution_count": 15,
   "metadata": {},
   "outputs": [
    {
     "name": "stdout",
     "output_type": "stream",
     "text": [
      "Ciphertext:  b'D~\\xdd\\x82}\\xa5YI*\\x9c\\x1abn\\x89\\xd1\\n\\x9b\\x82\\x03}\\x83\\x82\\x18\\x9c\\xf2\\x7f/\\x1b>:\\x85W'\n"
     ]
    }
   ],
   "source": [
    "print(\"Ciphertext: \", ciphertext)"
   ]
  },
  {
   "cell_type": "code",
   "execution_count": 16,
   "metadata": {},
   "outputs": [
    {
     "name": "stdout",
     "output_type": "stream",
     "text": [
      "Decrypted Text:  b'This is a secret message'\n"
     ]
    }
   ],
   "source": [
    "print(\"Decrypted Text: \", decrypted_text)"
   ]
  },
  {
   "cell_type": "markdown",
   "metadata": {},
   "source": [
    "Encryption and decryption using AES were performed successfully, ensuring secure data transformation using a symmetric block cipher."
   ]
  }
 ],
 "metadata": {
  "kernelspec": {
   "display_name": "Python 3",
   "language": "python",
   "name": "python3"
  },
  "language_info": {
   "codemirror_mode": {
    "name": "ipython",
    "version": 3
   },
   "file_extension": ".py",
   "mimetype": "text/x-python",
   "name": "python",
   "nbconvert_exporter": "python",
   "pygments_lexer": "ipython3",
   "version": "3.11.9"
  }
 },
 "nbformat": 4,
 "nbformat_minor": 2
}
