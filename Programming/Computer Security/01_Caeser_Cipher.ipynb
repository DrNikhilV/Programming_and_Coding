{
 "cells": [
  {
   "cell_type": "markdown",
   "metadata": {},
   "source": [
    "Name: Nikhil V\n",
    "\n",
    "Roll No: CH.EN.U4AIE22038\n",
    "\n",
    "COMPUTER SECURITY LAB"
   ]
  },
  {
   "cell_type": "markdown",
   "metadata": {},
   "source": [
    "# Caeser Cipher"
   ]
  },
  {
   "cell_type": "markdown",
   "metadata": {},
   "source": [
    "Encryption Function"
   ]
  },
  {
   "cell_type": "code",
   "execution_count": 1,
   "metadata": {},
   "outputs": [],
   "source": [
    "def caesar_encrypt(text, key):\n",
    "    encrypted_text = \"\"\n",
    "    for char in text:\n",
    "        if char.isalpha():\n",
    "            shift = key if char.islower() else key\n",
    "            base = ord('a') if char.islower() else ord('A')\n",
    "            encrypted_text += chr((ord(char) - base + shift) % 26 + base)\n",
    "        else:\n",
    "            encrypted_text += char\n",
    "    return encrypted_text"
   ]
  },
  {
   "cell_type": "markdown",
   "metadata": {},
   "source": [
    "Decryption Function"
   ]
  },
  {
   "cell_type": "code",
   "execution_count": 2,
   "metadata": {},
   "outputs": [],
   "source": [
    "def caesar_decrypt(text, key):\n",
    "    return caesar_encrypt(text, -key)"
   ]
  },
  {
   "cell_type": "markdown",
   "metadata": {},
   "source": [
    "Key for the Caesar Cipher"
   ]
  },
  {
   "cell_type": "code",
   "execution_count": 5,
   "metadata": {},
   "outputs": [],
   "source": [
    "key = 3"
   ]
  },
  {
   "cell_type": "code",
   "execution_count": 6,
   "metadata": {},
   "outputs": [
    {
     "name": "stdout",
     "output_type": "stream",
     "text": [
      "Original letter: a\n",
      "Encrypted letter: d\n",
      "Decrypted letter: a\n"
     ]
    }
   ],
   "source": [
    "# Section 1: Encrypt and decrypt a letter\n",
    "letter = \"a\"\n",
    "encrypted_letter = caesar_encrypt(letter, key)\n",
    "decrypted_letter = caesar_decrypt(encrypted_letter, key)\n",
    "print(f\"Original letter: {letter}\")\n",
    "print(f\"Encrypted letter: {encrypted_letter}\")\n",
    "print(f\"Decrypted letter: {decrypted_letter}\")"
   ]
  },
  {
   "cell_type": "code",
   "execution_count": 7,
   "metadata": {},
   "outputs": [
    {
     "name": "stdout",
     "output_type": "stream",
     "text": [
      "\n",
      "Original word: caesar\n",
      "Encrypted word: fdhvdu\n",
      "Decrypted word: caesar\n"
     ]
    }
   ],
   "source": [
    "# Section 2: Encrypt and decrypt a word\n",
    "word = \"caesar\"\n",
    "encrypted_word = caesar_encrypt(word, key)\n",
    "decrypted_word = caesar_decrypt(encrypted_word, key)\n",
    "print(f\"\\nOriginal word: {word}\")\n",
    "print(f\"Encrypted word: {encrypted_word}\")\n",
    "print(f\"Decrypted word: {decrypted_word}\")"
   ]
  },
  {
   "cell_type": "code",
   "execution_count": 8,
   "metadata": {},
   "outputs": [
    {
     "name": "stdout",
     "output_type": "stream",
     "text": [
      "\n",
      "Original sentence: i am a hacker\n",
      "Encrypted sentence: l dp d kdfnhu\n",
      "Decrypted sentence: i am a hacker\n"
     ]
    }
   ],
   "source": [
    "# Section 3: Encrypt and decrypt a sentence\n",
    "sentence = \"i am a hacker\"\n",
    "encrypted_sentence = caesar_encrypt(sentence, key)\n",
    "decrypted_sentence = caesar_decrypt(encrypted_sentence, key)\n",
    "print(f\"\\nOriginal sentence: {sentence}\")\n",
    "print(f\"Encrypted sentence: {encrypted_sentence}\")\n",
    "print(f\"Decrypted sentence: {decrypted_sentence}\")"
   ]
  },
  {
   "cell_type": "markdown",
   "metadata": {},
   "source": [
    "Changing the key for the Caesar Cipher"
   ]
  },
  {
   "cell_type": "code",
   "execution_count": 9,
   "metadata": {},
   "outputs": [],
   "source": [
    "key = 5"
   ]
  },
  {
   "cell_type": "code",
   "execution_count": 10,
   "metadata": {},
   "outputs": [
    {
     "name": "stdout",
     "output_type": "stream",
     "text": [
      "Original letter: a\n",
      "Encrypted letter: f\n",
      "Decrypted letter: a\n"
     ]
    }
   ],
   "source": [
    "# Section 1: Encrypt and decrypt a letter\n",
    "letter = \"a\"\n",
    "encrypted_letter = caesar_encrypt(letter, key)\n",
    "decrypted_letter = caesar_decrypt(encrypted_letter, key)\n",
    "print(f\"Original letter: {letter}\")\n",
    "print(f\"Encrypted letter: {encrypted_letter}\")\n",
    "print(f\"Decrypted letter: {decrypted_letter}\")"
   ]
  },
  {
   "cell_type": "code",
   "execution_count": 11,
   "metadata": {},
   "outputs": [
    {
     "name": "stdout",
     "output_type": "stream",
     "text": [
      "\n",
      "Original word: caesar\n",
      "Encrypted word: hfjxfw\n",
      "Decrypted word: caesar\n"
     ]
    }
   ],
   "source": [
    "# Section 2: Encrypt and decrypt a word\n",
    "word = \"caesar\"\n",
    "encrypted_word = caesar_encrypt(word, key)\n",
    "decrypted_word = caesar_decrypt(encrypted_word, key)\n",
    "print(f\"\\nOriginal word: {word}\")\n",
    "print(f\"Encrypted word: {encrypted_word}\")\n",
    "print(f\"Decrypted word: {decrypted_word}\")"
   ]
  },
  {
   "cell_type": "code",
   "execution_count": 12,
   "metadata": {},
   "outputs": [
    {
     "name": "stdout",
     "output_type": "stream",
     "text": [
      "\n",
      "Original sentence: i am a hacker\n",
      "Encrypted sentence: n fr f mfhpjw\n",
      "Decrypted sentence: i am a hacker\n"
     ]
    }
   ],
   "source": [
    "# Section 3: Encrypt and decrypt a sentence\n",
    "sentence = \"i am a hacker\"\n",
    "encrypted_sentence = caesar_encrypt(sentence, key)\n",
    "decrypted_sentence = caesar_decrypt(encrypted_sentence, key)\n",
    "print(f\"\\nOriginal sentence: {sentence}\")\n",
    "print(f\"Encrypted sentence: {encrypted_sentence}\")\n",
    "print(f\"Decrypted sentence: {decrypted_sentence}\")"
   ]
  },
  {
   "cell_type": "markdown",
   "metadata": {},
   "source": [
    "Encryption and decryption using the Caesar Cipher were performed successfully."
   ]
  }
 ],
 "metadata": {
  "kernelspec": {
   "display_name": "Python 3",
   "language": "python",
   "name": "python3"
  },
  "language_info": {
   "codemirror_mode": {
    "name": "ipython",
    "version": 3
   },
   "file_extension": ".py",
   "mimetype": "text/x-python",
   "name": "python",
   "nbconvert_exporter": "python",
   "pygments_lexer": "ipython3",
   "version": "3.11.9"
  },
  "orig_nbformat": 4
 },
 "nbformat": 4,
 "nbformat_minor": 2
}
