{
 "cells": [
  {
   "cell_type": "markdown",
   "metadata": {},
   "source": [
    "Name: Nikhil V\n",
    "\n",
    "Roll No: CH.EN.U4AIE22038\n",
    "\n",
    "COMPUTER SECURITY LAB"
   ]
  },
  {
   "cell_type": "markdown",
   "metadata": {},
   "source": [
    "# RSA Algorithm"
   ]
  },
  {
   "cell_type": "code",
   "execution_count": 1,
   "metadata": {},
   "outputs": [],
   "source": [
    "def power(base, expo, m):\n",
    "    res = 1\n",
    "    base = base % m\n",
    "    while expo > 0:\n",
    "        if expo & 1:\n",
    "            res = (res * base) % m\n",
    "        base = (base * base) % m\n",
    "        expo = expo // 2\n",
    "    return res"
   ]
  },
  {
   "cell_type": "code",
   "execution_count": 2,
   "metadata": {},
   "outputs": [],
   "source": [
    "# Function to find modular inverse of e modulo phi(n)\n",
    "def modInverse(e, phi):\n",
    "    for d in range(2, phi):\n",
    "        if (e * d) % phi == 1:\n",
    "            return d\n",
    "    return -1"
   ]
  },
  {
   "cell_type": "code",
   "execution_count": null,
   "metadata": {},
   "outputs": [],
   "source": [
    "# Key Generation\n",
    "def generateKeys():\n",
    "    p = 7919\n",
    "    q = 1009\n",
    "    \n",
    "    n = p * q\n",
    "    phi = (p - 1) * (q - 1)\n",
    "\n",
    "    e = 0\n",
    "    for e in range(2, phi):\n",
    "        if gcd(e, phi) == 1:\n",
    "            break\n",
    "\n",
    "    # Compute d such that e * d ≡ 1 (mod phi(n))\n",
    "    d = modInverse(e, phi)\n",
    "\n",
    "    return e, d, n"
   ]
  },
  {
   "cell_type": "code",
   "execution_count": null,
   "metadata": {},
   "outputs": [],
   "source": [
    "# Calculate GCD\n",
    "def gcd(a, b):\n",
    "    while b != 0:\n",
    "        a, b = b, a % b\n",
    "    return a"
   ]
  },
  {
   "cell_type": "code",
   "execution_count": 5,
   "metadata": {},
   "outputs": [],
   "source": [
    "# Encrypt message using public key (e, n)\n",
    "def encrypt(m, e, n):\n",
    "    return power(m, e, n)\n",
    "\n",
    "# Decrypt message using private key (d, n)\n",
    "def decrypt(c, d, n):\n",
    "    return power(c, d, n)"
   ]
  },
  {
   "cell_type": "code",
   "execution_count": null,
   "metadata": {},
   "outputs": [
    {
     "name": "stdout",
     "output_type": "stream",
     "text": [
      "Public Key (e, n): (5, 7990271)\n",
      "Private Key (d, n): (1596269, 7990271)\n",
      "Original Message: 123\n",
      "Encrypted Message: 3332110\n",
      "Decrypted Message: 123\n"
     ]
    }
   ],
   "source": [
    "if __name__ == \"__main__\":\n",
    "    \n",
    "    e, d, n = generateKeys()\n",
    "  \n",
    "    print(f\"Public Key (e, n): ({e}, {n})\")\n",
    "    print(f\"Private Key (d, n): ({d}, {n})\")\n",
    "\n",
    "    # Message\n",
    "    M = 123\n",
    "    print(f\"Original Message: {M}\")\n",
    "\n",
    "    # Encryption\n",
    "    C = encrypt(M, e, n)\n",
    "    print(f\"Encrypted Message: {C}\")\n",
    "\n",
    "    # Decryption\n",
    "    decrypted = decrypt(C, d, n)\n",
    "    print(f\"Decrypted Message: {decrypted}\")"
   ]
  },
  {
   "cell_type": "markdown",
   "metadata": {},
   "source": [
    "Encryption and decryption using RSA were performed successfully, proving the functionality of asymmetric key cryptography."
   ]
  }
 ],
 "metadata": {
  "kernelspec": {
   "display_name": "Python 3",
   "language": "python",
   "name": "python3"
  },
  "language_info": {
   "codemirror_mode": {
    "name": "ipython",
    "version": 3
   },
   "file_extension": ".py",
   "mimetype": "text/x-python",
   "name": "python",
   "nbconvert_exporter": "python",
   "pygments_lexer": "ipython3",
   "version": "3.11.9"
  }
 },
 "nbformat": 4,
 "nbformat_minor": 2
}
