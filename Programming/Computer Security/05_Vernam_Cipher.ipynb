{
 "cells": [
  {
   "cell_type": "markdown",
   "metadata": {},
   "source": [
    "Name: Nikhil V\n",
    "\n",
    "Roll No: CH.EN.U4AIE22038\n",
    "\n",
    "COMPUTER SECURITY LAB"
   ]
  },
  {
   "cell_type": "markdown",
   "metadata": {},
   "source": [
    "# Vernam Cipher"
   ]
  },
  {
   "cell_type": "markdown",
   "metadata": {},
   "source": [
    "Encryption"
   ]
  },
  {
   "cell_type": "code",
   "execution_count": 19,
   "metadata": {},
   "outputs": [],
   "source": [
    "def vernam_encrypt(plaintext, key):\n",
    "    if len(plaintext) != len(key):\n",
    "        raise ValueError(\"Key must be the same length as the plaintext.\")\n",
    "    ciphertext = \"\"\n",
    "    for p, k in zip(plaintext, key):\n",
    "        encrypted_char = chr(ord(p) ^ ord(k))  # XOR operation\n",
    "        ciphertext += encrypted_char\n",
    "    return ciphertext"
   ]
  },
  {
   "cell_type": "markdown",
   "metadata": {},
   "source": [
    "Decryption"
   ]
  },
  {
   "cell_type": "code",
   "execution_count": 20,
   "metadata": {},
   "outputs": [],
   "source": [
    "def vernam_decrypt(ciphertext, key):\n",
    "    if len(ciphertext) != len(key):\n",
    "        raise ValueError(\"Key must be the same length as the ciphertext.\")\n",
    "\n",
    "    plaintext = \"\"\n",
    "    for c, k in zip(ciphertext, key):\n",
    "        decrypted_char = chr(ord(c) ^ ord(k))  # XOR operation\n",
    "        plaintext += decrypted_char\n",
    "    return plaintext"
   ]
  },
  {
   "cell_type": "code",
   "execution_count": 21,
   "metadata": {},
   "outputs": [],
   "source": [
    "# Adjusts the key to match the given length by repeating or truncating.\n",
    "def adjust_key_length(key, length):\n",
    "    return (key * (length // len(key)) + key[:length % len(key)])[:length]"
   ]
  },
  {
   "cell_type": "code",
   "execution_count": 22,
   "metadata": {},
   "outputs": [],
   "source": [
    "plaintext = \"we have been discovered\"\n",
    "key = \"randomkey\""
   ]
  },
  {
   "cell_type": "code",
   "execution_count": 23,
   "metadata": {},
   "outputs": [],
   "source": [
    "key = adjust_key_length(key, len(plaintext))"
   ]
  },
  {
   "cell_type": "code",
   "execution_count": 24,
   "metadata": {},
   "outputs": [],
   "source": [
    "# Ensure the key matches the length of the plaintext\n",
    "if len(key) < len(plaintext):\n",
    "    raise ValueError(\"Key must be at least the same length as the plaintext.\")"
   ]
  },
  {
   "cell_type": "code",
   "execution_count": 25,
   "metadata": {},
   "outputs": [
    {
     "name": "stdout",
     "output_type": "stream",
     "text": [
      "Ciphertext: \u0005\u0004N\f\u000e\u001b\u000eE\u001b\u0017\u0004\u0000D\u000b\u0004\u0018\u0006\u0016\u0004\u0004\u001c\u0001\u000b\n"
     ]
    }
   ],
   "source": [
    "# Encrypt\n",
    "ciphertext = vernam_encrypt(plaintext, key)\n",
    "print(f\"Ciphertext: {ciphertext}\")"
   ]
  },
  {
   "cell_type": "code",
   "execution_count": 26,
   "metadata": {},
   "outputs": [
    {
     "name": "stdout",
     "output_type": "stream",
     "text": [
      "Decrypted Text: we have been discovered\n"
     ]
    }
   ],
   "source": [
    "# Decrypt\n",
    "decrypted_text = vernam_decrypt(ciphertext, key)\n",
    "print(f\"Decrypted Text: {decrypted_text}\")"
   ]
  },
  {
   "cell_type": "markdown",
   "metadata": {},
   "source": [
    "Using Mod 26"
   ]
  },
  {
   "cell_type": "code",
   "execution_count": 29,
   "metadata": {},
   "outputs": [
    {
     "name": "stdout",
     "output_type": "stream",
     "text": [
      "Ciphertext: NE KOHO ZJSE HZFCAXMGLU\n",
      "Decrypted Text: WE HAVE BEEN DISCOVERED\n"
     ]
    }
   ],
   "source": [
    "def vernam_encrypt_mod26(plaintext, key):\n",
    "    \"\"\"\n",
    "    Encrypts the plaintext using the Vernam Cipher with mod 26 to ensure alphabetic output.\n",
    "    \"\"\"\n",
    "    if len(plaintext) != len(key):\n",
    "        raise ValueError(\"Key must be the same length as the plaintext.\")\n",
    "\n",
    "    ciphertext = \"\"\n",
    "    for p, k in zip(plaintext.upper(), key.upper()):  # Convert to uppercase\n",
    "        if p.isalpha():\n",
    "            encrypted_char = chr(((ord(p) - ord('A') + (ord(k) - ord('A'))) % 26) + ord('A'))\n",
    "            ciphertext += encrypted_char\n",
    "        else:\n",
    "            ciphertext += p  # Keep spaces or non-alpha as is\n",
    "    return ciphertext\n",
    "\n",
    "\n",
    "def vernam_decrypt_mod26(ciphertext, key):\n",
    "    \"\"\"\n",
    "    Decrypts the ciphertext using the Vernam Cipher with mod 26 to ensure alphabetic output.\n",
    "    \"\"\"\n",
    "    if len(ciphertext) != len(key):\n",
    "        raise ValueError(\"Key must be the same length as the ciphertext.\")\n",
    "\n",
    "    plaintext = \"\"\n",
    "    for c, k in zip(ciphertext.upper(), key.upper()):  # Convert to uppercase\n",
    "        if c.isalpha():\n",
    "            decrypted_char = chr(((ord(c) - ord('A') - (ord(k) - ord('A')) + 26) % 26) + ord('A'))\n",
    "            plaintext += decrypted_char\n",
    "        else:\n",
    "            plaintext += c  # Keep spaces or non-alpha as is\n",
    "    return plaintext\n",
    "\n",
    "\n",
    "# Example usage\n",
    "plaintext = \"we have been discovered\"\n",
    "key = \"randomkeyforvernamciph\"\n",
    "\n",
    "# Adjust the key to match the plaintext length\n",
    "key = adjust_key_length(key, len(plaintext))\n",
    "\n",
    "# Encrypt\n",
    "ciphertext = vernam_encrypt_mod26(plaintext, key)\n",
    "print(f\"Ciphertext: {ciphertext}\")\n",
    "\n",
    "# Decrypt\n",
    "decrypted_text = vernam_decrypt_mod26(ciphertext, key)\n",
    "print(f\"Decrypted Text: {decrypted_text}\")"
   ]
  },
  {
   "cell_type": "markdown",
   "metadata": {},
   "source": [
    "Encryption and decryption using the Vernam Cipher were performed successfully, confirming the effectiveness of the one-time pad technique."
   ]
  }
 ],
 "metadata": {
  "kernelspec": {
   "display_name": "Python 3",
   "language": "python",
   "name": "python3"
  },
  "language_info": {
   "codemirror_mode": {
    "name": "ipython",
    "version": 3
   },
   "file_extension": ".py",
   "mimetype": "text/x-python",
   "name": "python",
   "nbconvert_exporter": "python",
   "pygments_lexer": "ipython3",
   "version": "3.11.9"
  }
 },
 "nbformat": 4,
 "nbformat_minor": 2
}
