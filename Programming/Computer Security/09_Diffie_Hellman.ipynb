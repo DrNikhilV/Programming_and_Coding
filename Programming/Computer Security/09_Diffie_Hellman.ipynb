{
 "cells": [
  {
   "cell_type": "markdown",
   "metadata": {},
   "source": [
    "Name: Nikhil V\n",
    "\n",
    "Roll No: CH.EN.U4AIE22038\n",
    "\n",
    "COMPUTER SECURITY LAB"
   ]
  },
  {
   "cell_type": "markdown",
   "metadata": {},
   "source": [
    "# Diffie Hellman Algorithm"
   ]
  },
  {
   "cell_type": "code",
   "execution_count": 4,
   "metadata": {},
   "outputs": [
    {
     "name": "stdout",
     "output_type": "stream",
     "text": [
      "Prime: 23, Base: 5\n",
      "Alice's Private Key: 16\n",
      "Bob's Private Key: 17\n",
      "Alice's Public Key: 3\n",
      "Bob's Public Key: 15\n",
      "Shared Secret: 16\n"
     ]
    }
   ],
   "source": [
    "import random\n",
    "\n",
    "def generate_private_key(prime):\n",
    "    return random.randint(2, prime - 2)\n",
    "\n",
    "def generate_public_key(prime, base, private_key):\n",
    "    return pow(base, private_key, prime)\n",
    "\n",
    "def generate_shared_secret(public_key, private_key, prime):\n",
    "    return pow(public_key, private_key, prime)\n",
    "\n",
    "def diffie_hellman():\n",
    "    # Publicly shared prime number and base\n",
    "    prime = 23  # A prime number\n",
    "    base = 5    # A primitive root modulo prime\n",
    "    \n",
    "    # Generate private keys\n",
    "    alice_private = generate_private_key(prime)\n",
    "    bob_private = generate_private_key(prime)\n",
    "    \n",
    "    # Generate public keys\n",
    "    alice_public = generate_public_key(prime, base, alice_private)\n",
    "    bob_public = generate_public_key(prime, base, bob_private)\n",
    "    \n",
    "    # Exchange public keys and compute shared secrets\n",
    "    alice_shared_secret = generate_shared_secret(bob_public, alice_private, prime)\n",
    "    bob_shared_secret = generate_shared_secret(alice_public, bob_private, prime)\n",
    "    \n",
    "    # Both should have the same shared secret\n",
    "    assert alice_shared_secret == bob_shared_secret, \"Key exchange failed!\"\n",
    "    \n",
    "    print(f\"Prime: {prime}, Base: {base}\")\n",
    "    print(f\"Alice's Private Key: {alice_private}\")\n",
    "    print(f\"Bob's Private Key: {bob_private}\")\n",
    "    print(f\"Alice's Public Key: {alice_public}\")\n",
    "    print(f\"Bob's Public Key: {bob_public}\")\n",
    "    print(f\"Shared Secret: {alice_shared_secret}\")\n",
    "\n",
    "if __name__ == \"__main__\":\n",
    "    diffie_hellman()"
   ]
  },
  {
   "cell_type": "code",
   "execution_count": 5,
   "metadata": {},
   "outputs": [],
   "source": [
    "# Power function to return value of a^b mod P\n",
    "def power(a, b, p):\n",
    "    if b == 1:\n",
    "        return a\n",
    "    else:\n",
    "        return pow(a, b) % p"
   ]
  },
  {
   "cell_type": "code",
   "execution_count": 6,
   "metadata": {},
   "outputs": [
    {
     "name": "stdout",
     "output_type": "stream",
     "text": [
      "The value of P: 23\n",
      "The value of G: 9\n",
      "The private key a for Alice: 4\n",
      "The private key b for Bob: 3\n",
      "Secret key for Alice is: 9\n",
      "Secret key for Bob is: 9\n"
     ]
    }
   ],
   "source": [
    "def main():\n",
    "    # Both persons agree upon the public keys G and P\n",
    "    # A prime number P is taken\n",
    "    P = 23\n",
    "    print(\"The value of P:\", P)\n",
    "\n",
    "    # A primitive root for P, G is taken\n",
    "    G = 9\n",
    "    print(\"The value of G:\", G)\n",
    "\n",
    "    # Alice chooses the private key a\n",
    "    # a is the chosen private key\n",
    "    a = 4\n",
    "    print(\"The private key a for Alice:\", a)\n",
    "\n",
    "    # Gets the generated key\n",
    "    x = power(G, a, P)\n",
    "\n",
    "    # Bob chooses the private key b\n",
    "    # b is the chosen private key\n",
    "    b = 3\n",
    "    print(\"The private key b for Bob:\", b)\n",
    "\n",
    "    # Gets the generated key\n",
    "    y = power(G, b, P)\n",
    "\n",
    "    # Generating the secret key after the exchange of keys\n",
    "    ka = power(y, a, P)  # Secret key for Alice\n",
    "    kb = power(x, b, P)  # Secret key for Bob\n",
    "\n",
    "    print(\"Secret key for Alice is:\", ka)\n",
    "    print(\"Secret key for Bob is:\", kb)\n",
    "\n",
    "if __name__ == \"__main__\":\n",
    "    main()"
   ]
  },
  {
   "cell_type": "markdown",
   "metadata": {},
   "source": [
    "The Diffie-Hellman key exchange was successfully performed, enabling secure key agreement between communicating parties."
   ]
  }
 ],
 "metadata": {
  "kernelspec": {
   "display_name": "Python 3",
   "language": "python",
   "name": "python3"
  },
  "language_info": {
   "codemirror_mode": {
    "name": "ipython",
    "version": 3
   },
   "file_extension": ".py",
   "mimetype": "text/x-python",
   "name": "python",
   "nbconvert_exporter": "python",
   "pygments_lexer": "ipython3",
   "version": "3.11.9"
  }
 },
 "nbformat": 4,
 "nbformat_minor": 2
}
