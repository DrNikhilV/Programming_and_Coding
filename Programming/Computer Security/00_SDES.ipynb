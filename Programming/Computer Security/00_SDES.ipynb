{
 "cells": [
  {
   "cell_type": "markdown",
   "metadata": {},
   "source": [
    "Name: Nikhil V\n",
    "\n",
    "Roll No: CH.EN.U4AIE22038\n",
    "\n",
    "COMPUTER SECURITY LAB"
   ]
  },
  {
   "cell_type": "markdown",
   "metadata": {},
   "source": [
    "# Simplified Data Encryption Standard"
   ]
  },
  {
   "cell_type": "code",
   "execution_count": 2,
   "metadata": {},
   "outputs": [],
   "source": [
    "def permute(input_bits, permutation):\n",
    "    return [input_bits[i] for i in permutation]"
   ]
  },
  {
   "cell_type": "code",
   "execution_count": 3,
   "metadata": {},
   "outputs": [],
   "source": [
    "def shift_left(bits, shifts):\n",
    "    return bits[shifts:] + bits[:shifts]"
   ]
  },
  {
   "cell_type": "code",
   "execution_count": 6,
   "metadata": {},
   "outputs": [],
   "source": [
    "def key_generation(key):\n",
    "\n",
    "    # P10 permutation\n",
    "    P10 = [2, 4, 1, 6, 3, 9, 0, 8, 7, 5]\n",
    "\n",
    "    # P8 permutation\n",
    "    P8 = [5, 2, 6, 3, 7, 4, 9, 8]\n",
    "\n",
    "    key = permute(key, P10)\n",
    "\n",
    "    # Split into left and right halves\n",
    "    left, right = key[:5], key[5:]\n",
    "\n",
    "    # Perform left shift by 1\n",
    "    left = shift_left(left, 1)\n",
    "    right = shift_left(right, 1)\n",
    "\n",
    "    # Generate K1\n",
    "    K1 = permute(left + right, P8)\n",
    "\n",
    "    # Perform left shift by 2\n",
    "    left = shift_left(left, 2)\n",
    "    right = shift_left(right, 2)\n",
    "\n",
    "    # Generate K2\n",
    "    K2 = permute(left + right, P8)\n",
    "\n",
    "    return K1, K2"
   ]
  },
  {
   "cell_type": "code",
   "execution_count": 7,
   "metadata": {},
   "outputs": [],
   "source": [
    "def sbox(input_bits, sbox_table):\n",
    "    row = (input_bits[0] << 1) | input_bits[3]\n",
    "    col = (input_bits[1] << 1) | input_bits[2]\n",
    "    return [int(b) for b in format(sbox_table[row][col], '02b')]"
   ]
  },
  {
   "cell_type": "code",
   "execution_count": 8,
   "metadata": {},
   "outputs": [],
   "source": [
    "def fk(bits, subkey):\n",
    "\n",
    "    # EP permutation\n",
    "    EP = [3, 0, 1, 2, 1, 2, 3, 0]\n",
    "\n",
    "    # S-boxes\n",
    "    S0 = [[1, 0, 3, 2],\n",
    "          [3, 2, 1, 0],\n",
    "          [0, 2, 1, 3],\n",
    "          [3, 1, 3, 2]]\n",
    "\n",
    "    S1 = [[0, 1, 2, 3],\n",
    "          [2, 0, 1, 3],\n",
    "          [3, 0, 1, 0],\n",
    "          [2, 1, 0, 3]]\n",
    "\n",
    "    # P4 permutation\n",
    "    P4 = [1, 3, 2, 0]\n",
    "\n",
    "    left, right = bits[:4], bits[4:]\n",
    "\n",
    "    expanded_permuted = permute(right, EP)\n",
    "\n",
    "    xor_result = [b ^ k for b, k in zip(expanded_permuted, subkey)]\n",
    "\n",
    "    left_xor, right_xor = xor_result[:4], xor_result[4:]\n",
    "\n",
    "    s0_output = sbox(left_xor, S0)\n",
    "    s1_output = sbox(right_xor, S1)\n",
    "\n",
    "    sbox_output = permute(s0_output + s1_output, P4)\n",
    "\n",
    "    return [l ^ s for l, s in zip(left, sbox_output)] + right"
   ]
  },
  {
   "cell_type": "code",
   "execution_count": 9,
   "metadata": {},
   "outputs": [],
   "source": [
    "def encrypt(plaintext, key):\n",
    "\n",
    "    # Initial permutation (IP)\n",
    "    IP = [1, 5, 2, 0, 3, 7, 4, 6]\n",
    "\n",
    "    # Inverse initial permutation (IP-1)\n",
    "    IP_inv = [3, 0, 2, 4, 6, 1, 7, 5]\n",
    "\n",
    "    # Generate subkeys\n",
    "    K1, K2 = key_generation(key)\n",
    "\n",
    "    bits = permute(plaintext, IP)\n",
    "\n",
    "    # First round with K1\n",
    "    bits = fk(bits, K1)\n",
    "\n",
    "    # Swap halves\n",
    "    bits = bits[4:] + bits[:4]\n",
    "\n",
    "    # Second round with K2\n",
    "    bits = fk(bits, K2)\n",
    "\n",
    "    # Perform inverse initial permutation\n",
    "    return permute(bits, IP_inv)"
   ]
  },
  {
   "cell_type": "code",
   "execution_count": 10,
   "metadata": {},
   "outputs": [],
   "source": [
    "def decrypt(ciphertext, key):\n",
    "\n",
    "    # Initial permutation (IP)\n",
    "    IP = [1, 5, 2, 0, 3, 7, 4, 6]\n",
    "\n",
    "    # Inverse initial permutation (IP-1)\n",
    "    IP_inv = [3, 0, 2, 4, 6, 1, 7, 5]\n",
    "\n",
    "    # Generate subkeys\n",
    "    K1, K2 = key_generation(key)\n",
    "\n",
    "    # Perform initial permutation\n",
    "    bits = permute(ciphertext, IP)\n",
    "\n",
    "    # First round with K2\n",
    "    bits = fk(bits, K2)\n",
    "\n",
    "    # Swap halves\n",
    "    bits = bits[4:] + bits[:4]\n",
    "\n",
    "    # Second round with K1\n",
    "    bits = fk(bits, K1)\n",
    "\n",
    "    # Perform inverse initial permutation\n",
    "    return permute(bits, IP_inv)"
   ]
  },
  {
   "cell_type": "code",
   "execution_count": 11,
   "metadata": {},
   "outputs": [
    {
     "name": "stdout",
     "output_type": "stream",
     "text": [
      "Key:        [1, 0, 1, 0, 0, 0, 0, 0, 1, 0]\n",
      "Plaintext:  [1, 0, 0, 1, 0, 1, 1, 1]\n",
      "Ciphertext: [0, 0, 1, 1, 1, 0, 0, 0]\n",
      "Decrypted:  [1, 0, 0, 1, 0, 1, 1, 1]\n"
     ]
    }
   ],
   "source": [
    "if __name__ == \"__main__\":\n",
    "    \n",
    "    # 10-bit key and 8-bit plaintext\n",
    "    key = [1, 0, 1, 0, 0, 0, 0, 0, 1, 0]\n",
    "    plaintext = [1, 0, 0, 1, 0, 1, 1, 1]\n",
    "\n",
    "    print(\"Key:       \", key)\n",
    "    print(\"Plaintext: \", plaintext)\n",
    "\n",
    "    ciphertext = encrypt(plaintext, key)\n",
    "    print(\"Ciphertext:\", ciphertext)\n",
    "\n",
    "    decrypted_text = decrypt(ciphertext, key)\n",
    "    print(\"Decrypted: \", decrypted_text)"
   ]
  }
 ],
 "metadata": {
  "kernelspec": {
   "display_name": "Python 3",
   "language": "python",
   "name": "python3"
  },
  "language_info": {
   "codemirror_mode": {
    "name": "ipython",
    "version": 3
   },
   "file_extension": ".py",
   "mimetype": "text/x-python",
   "name": "python",
   "nbconvert_exporter": "python",
   "pygments_lexer": "ipython3",
   "version": "3.11.9"
  }
 },
 "nbformat": 4,
 "nbformat_minor": 2
}
