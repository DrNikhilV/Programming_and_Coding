{
 "cells": [
  {
   "cell_type": "markdown",
   "metadata": {},
   "source": [
    "Name: Nikhil V\n",
    "\n",
    "Roll No: CH.EN.U4AIE22038\n",
    "\n",
    "COMPUTER SECURITY LAB"
   ]
  },
  {
   "cell_type": "markdown",
   "metadata": {},
   "source": [
    "# Railfence Cipher"
   ]
  },
  {
   "cell_type": "markdown",
   "metadata": {},
   "source": [
    "Encryption"
   ]
  },
  {
   "cell_type": "code",
   "execution_count": 16,
   "metadata": {},
   "outputs": [],
   "source": [
    "def railfence_encrypt(plaintext, num_rails):\n",
    "    rails = ['' for _ in range(num_rails)]\n",
    "    direction = 1  # 1 for down, -1 for up\n",
    "    row = 0\n",
    "\n",
    "    for char in plaintext:\n",
    "        rails[row] += char\n",
    "        row += direction\n",
    "\n",
    "        if row == 0 or row == num_rails - 1:\n",
    "            direction *= -1\n",
    "\n",
    "    return ''.join(rails)"
   ]
  },
  {
   "cell_type": "markdown",
   "metadata": {},
   "source": [
    "Decryption"
   ]
  },
  {
   "cell_type": "code",
   "execution_count": 17,
   "metadata": {},
   "outputs": [],
   "source": [
    "def railfence_decrypt(ciphertext, num_rails):\n",
    "    \"\"\"\n",
    "    Decrypts the ciphertext using the Rail Fence Cipher.\n",
    "\n",
    "    :param ciphertext: The encrypted ciphertext to decrypt\n",
    "    :param num_rails: The number of rails (levels) for the cipher\n",
    "    :return: The decrypted plaintext\n",
    "    \"\"\"\n",
    "    # Determine the zigzag pattern\n",
    "    pattern = [[] for _ in range(num_rails)]\n",
    "    direction = 1\n",
    "    row = 0\n",
    "    for i in range(len(ciphertext)):\n",
    "        pattern[row].append(i)\n",
    "        row += direction\n",
    "\n",
    "        if row == 0 or row == num_rails - 1:\n",
    "            direction *= -1\n",
    "\n",
    "    # Flatten the pattern to get the rail indices\n",
    "    flat_pattern = [idx for rail in pattern for idx in rail]\n",
    "\n",
    "    # Map the ciphertext to the zigzag pattern\n",
    "    plaintext = [''] * len(ciphertext)\n",
    "    for idx, char in zip(flat_pattern, ciphertext):\n",
    "        plaintext[idx] = char\n",
    "\n",
    "    return ''.join(plaintext)"
   ]
  },
  {
   "cell_type": "code",
   "execution_count": 18,
   "metadata": {},
   "outputs": [],
   "source": [
    "plaintext = \"meet at the school house\"\n",
    "num_rails = 2"
   ]
  },
  {
   "cell_type": "code",
   "execution_count": 19,
   "metadata": {},
   "outputs": [
    {
     "name": "stdout",
     "output_type": "stream",
     "text": [
      "Ciphertext: meatecolosetthshohue\n"
     ]
    }
   ],
   "source": [
    "# Encrypt\n",
    "ciphertext = railfence_encrypt(plaintext.replace(\" \", \"\"), num_rails)\n",
    "print(f\"Ciphertext: {ciphertext}\")"
   ]
  },
  {
   "cell_type": "code",
   "execution_count": 20,
   "metadata": {},
   "outputs": [
    {
     "name": "stdout",
     "output_type": "stream",
     "text": [
      "Decrypted Text: meetattheschoolhouse\n"
     ]
    }
   ],
   "source": [
    "# Decrypt\n",
    "decrypted_text = railfence_decrypt(ciphertext, num_rails)\n",
    "print(f\"Decrypted Text: {decrypted_text}\")"
   ]
  }
 ],
 "metadata": {
  "kernelspec": {
   "display_name": "Python 3",
   "language": "python",
   "name": "python3"
  },
  "language_info": {
   "codemirror_mode": {
    "name": "ipython",
    "version": 3
   },
   "file_extension": ".py",
   "mimetype": "text/x-python",
   "name": "python",
   "nbconvert_exporter": "python",
   "pygments_lexer": "ipython3",
   "version": "3.11.9"
  }
 },
 "nbformat": 4,
 "nbformat_minor": 2
}
