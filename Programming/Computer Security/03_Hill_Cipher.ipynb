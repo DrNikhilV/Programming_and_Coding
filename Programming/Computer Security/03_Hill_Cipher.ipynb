{
 "cells": [
  {
   "cell_type": "markdown",
   "metadata": {},
   "source": [
    "Function to preprocess text for Hill cipher"
   ]
  },
  {
   "cell_type": "code",
   "execution_count": 2,
   "metadata": {},
   "outputs": [],
   "source": [
    "import numpy as np\n",
    "\n",
    "def preprocess_text_hill(text, block_size):\n",
    "    text = text.upper().replace(\" \", \"\").replace(\"J\", \"I\")\n",
    "    text = \"\".join(filter(str.isalpha, text))\n",
    "    padding_length = (block_size - len(text) % block_size) % block_size\n",
    "    return text + \"X\" * padding_length"
   ]
  },
  {
   "cell_type": "markdown",
   "metadata": {},
   "source": [
    "Function to create the Hill cipher key matrix"
   ]
  },
  {
   "cell_type": "code",
   "execution_count": 3,
   "metadata": {},
   "outputs": [],
   "source": [
    "def create_hill_key_matrix(key, block_size):\n",
    "    key = key.upper().replace(\" \", \"\").replace(\"J\", \"I\")\n",
    "    key = \"\".join(filter(str.isalpha, key))\n",
    "    if len(key) != block_size ** 2:\n",
    "        raise ValueError(f\"Key length must be {block_size**2} characters for block size {block_size}.\")\n",
    "    key_values = [ord(char) - ord('A') for char in key]\n",
    "    return np.array(key_values).reshape((block_size, block_size))"
   ]
  },
  {
   "cell_type": "markdown",
   "metadata": {},
   "source": [
    "Encryption"
   ]
  },
  {
   "cell_type": "code",
   "execution_count": 4,
   "metadata": {},
   "outputs": [],
   "source": [
    "def hill_encrypt(text, key_matrix):\n",
    "    block_size = key_matrix.shape[0]\n",
    "    text_values = [ord(char) - ord('A') for char in text]\n",
    "    encrypted_text = \"\"\n",
    "\n",
    "    for i in range(0, len(text_values), block_size):\n",
    "        block = np.array(text_values[i:i + block_size])\n",
    "        encrypted_block = np.dot(key_matrix, block) % 26\n",
    "        encrypted_text += \"\".join(chr(value + ord('A')) for value in encrypted_block)\n",
    "\n",
    "    return encrypted_text"
   ]
  },
  {
   "cell_type": "markdown",
   "metadata": {},
   "source": [
    "Decryption"
   ]
  },
  {
   "cell_type": "code",
   "execution_count": 5,
   "metadata": {},
   "outputs": [],
   "source": [
    "def hill_decrypt(text, key_matrix):\n",
    "    block_size = key_matrix.shape[0]\n",
    "    inverse_key_matrix = np.linalg.inv(key_matrix)\n",
    "    determinant = int(round(np.linalg.det(key_matrix)))\n",
    "    determinant_mod_inv = pow(determinant, -1, 26)\n",
    "    adjugate_matrix = np.round(determinant * inverse_key_matrix).astype(int) % 26\n",
    "    inverse_key_matrix_mod_26 = (determinant_mod_inv * adjugate_matrix) % 26\n",
    "\n",
    "    text_values = [ord(char) - ord('A') for char in text]\n",
    "    decrypted_text = \"\"\n",
    "\n",
    "    for i in range(0, len(text_values), block_size):\n",
    "        block = np.array(text_values[i:i + block_size])\n",
    "        decrypted_block = np.dot(inverse_key_matrix_mod_26, block) % 26\n",
    "        decrypted_text += \"\".join(chr(int(round(value)) + ord('A')) for value in decrypted_block)\n",
    "\n",
    "    return decrypted_text"
   ]
  },
  {
   "cell_type": "code",
   "execution_count": 6,
   "metadata": {},
   "outputs": [],
   "source": [
    "# Key and block size for the Hill cipher\n",
    "key = \"HILL\"  # Must be exactly block_size^2 characters\n",
    "block_size = 2  # Hill cipher requires block size matching key matrix dimensions\n",
    "\n",
    "# Create the key matrix\n",
    "key_matrix = create_hill_key_matrix(key, block_size)"
   ]
  },
  {
   "cell_type": "code",
   "execution_count": 7,
   "metadata": {},
   "outputs": [
    {
     "name": "stdout",
     "output_type": "stream",
     "text": [
      "\n",
      "Original word: caesar\n",
      "Encrypted word: OWQIGF\n",
      "Decrypted word: CAESAR\n"
     ]
    }
   ],
   "source": [
    "# Section 1: Encrypt and decrypt a word\n",
    "word = \"caesar\"\n",
    "processed_word = preprocess_text_hill(word, block_size)\n",
    "encrypted_word = hill_encrypt(processed_word, key_matrix)\n",
    "decrypted_word = hill_decrypt(encrypted_word, key_matrix)\n",
    "print(f\"\\nOriginal word: {word}\")\n",
    "print(f\"Encrypted word: {encrypted_word}\")\n",
    "print(f\"Decrypted word: {decrypted_word}\")"
   ]
  },
  {
   "cell_type": "code",
   "execution_count": 8,
   "metadata": {},
   "outputs": [
    {
     "name": "stdout",
     "output_type": "stream",
     "text": [
      "\n",
      "Original sentence: i am a hacker\n",
      "Encrypted sentence: EKGCXZQCIX\n",
      "Decrypted sentence: IAMAHACKER\n"
     ]
    }
   ],
   "source": [
    "# Section 2: Encrypt and decrypt a sentence\n",
    "sentence = \"i am a hacker\"\n",
    "processed_sentence = preprocess_text_hill(sentence, block_size)\n",
    "encrypted_sentence = hill_encrypt(processed_sentence, key_matrix)\n",
    "decrypted_sentence = hill_decrypt(encrypted_sentence, key_matrix)\n",
    "print(f\"\\nOriginal sentence: {sentence}\")\n",
    "print(f\"Encrypted sentence: {encrypted_sentence}\")\n",
    "print(f\"Decrypted sentence: {decrypted_sentence}\")"
   ]
  }
 ],
 "metadata": {
  "kernelspec": {
   "display_name": "Python 3",
   "language": "python",
   "name": "python3"
  },
  "language_info": {
   "codemirror_mode": {
    "name": "ipython",
    "version": 3
   },
   "file_extension": ".py",
   "mimetype": "text/x-python",
   "name": "python",
   "nbconvert_exporter": "python",
   "pygments_lexer": "ipython3",
   "version": "3.11.9"
  }
 },
 "nbformat": 4,
 "nbformat_minor": 2
}
