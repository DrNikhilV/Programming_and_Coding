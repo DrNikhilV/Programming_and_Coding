{
 "cells": [
  {
   "cell_type": "markdown",
   "metadata": {},
   "source": [
    "Function to create the Playfair cipher key"
   ]
  },
  {
   "cell_type": "code",
   "execution_count": 3,
   "metadata": {},
   "outputs": [],
   "source": [
    "import re\n",
    "\n",
    "def create_playfair_square(key):\n",
    "    alphabet = \"ABCDEFGHIKLMNOPQRSTUVWXYZ\"\n",
    "    key = \"\".join(dict.fromkeys(key.upper().replace(\"J\", \"I\")))  # Remove duplicates and replace J with I\n",
    "    square = key + \"\".join([c for c in alphabet if c not in key])\n",
    "    return [square[i:i+5] for i in range(0, 25, 5)]"
   ]
  },
  {
   "cell_type": "code",
   "execution_count": 4,
   "metadata": {},
   "outputs": [],
   "source": [
    "def preprocess_text(text):\n",
    "    text = text.upper().replace(\"J\", \"I\")\n",
    "    text = re.sub(r\"[^A-Z]\", \"\", text)\n",
    "    processed = \"\"\n",
    "    i = 0\n",
    "    while i < len(text):\n",
    "        processed += text[i]\n",
    "        if i + 1 < len(text) and text[i] == text[i + 1]:\n",
    "            processed += \"X\"\n",
    "        elif i + 1 == len(text):\n",
    "            processed += \"X\"\n",
    "        else:\n",
    "            processed += text[i + 1]\n",
    "        i += 2\n",
    "    return processed"
   ]
  },
  {
   "cell_type": "code",
   "execution_count": 5,
   "metadata": {},
   "outputs": [],
   "source": [
    "# Function to find the position of a character in the Playfair square\n",
    "def find_position(square, char):\n",
    "    for row in range(5):\n",
    "        for col in range(5):\n",
    "            if square[row][col] == char:\n",
    "                return row, col"
   ]
  },
  {
   "cell_type": "markdown",
   "metadata": {},
   "source": [
    "Encrpytion and Decryption Function"
   ]
  },
  {
   "cell_type": "code",
   "execution_count": 7,
   "metadata": {},
   "outputs": [],
   "source": [
    "def process_digraph(digraph, square, encrypt=True):\n",
    "    row1, col1 = find_position(square, digraph[0])\n",
    "    row2, col2 = find_position(square, digraph[1])\n",
    "\n",
    "    if row1 == row2:  # Same row\n",
    "        shift = 1 if encrypt else -1\n",
    "        col1 = (col1 + shift) % 5\n",
    "        col2 = (col2 + shift) % 5\n",
    "    elif col1 == col2:  # Same column\n",
    "        shift = 1 if encrypt else -1\n",
    "        row1 = (row1 + shift) % 5\n",
    "        row2 = (row2 + shift) % 5\n",
    "    else:  # Rectangle swap\n",
    "        col1, col2 = col2, col1\n",
    "\n",
    "    return square[row1][col1] + square[row2][col2]"
   ]
  },
  {
   "cell_type": "code",
   "execution_count": 8,
   "metadata": {},
   "outputs": [],
   "source": [
    "def playfair_cipher(text, key, encrypt=True):\n",
    "    square = create_playfair_square(key)\n",
    "    processed_text = preprocess_text(text)\n",
    "    result = \"\"\n",
    "\n",
    "    for i in range(0, len(processed_text), 2):\n",
    "        result += process_digraph(processed_text[i:i+2], square, encrypt)\n",
    "\n",
    "    return result"
   ]
  },
  {
   "cell_type": "code",
   "execution_count": 13,
   "metadata": {},
   "outputs": [],
   "source": [
    "key = \"playfair\""
   ]
  },
  {
   "cell_type": "code",
   "execution_count": 14,
   "metadata": {},
   "outputs": [
    {
     "name": "stdout",
     "output_type": "stream",
     "text": [
      "Original letter: a\n",
      "Encrypted letter: YW\n",
      "Decrypted letter: AX\n"
     ]
    }
   ],
   "source": [
    "# Section 1: Encrypt and decrypt a letter (adjusted to digraphs)\n",
    "letter = \"a\"\n",
    "encrypted_letter = playfair_cipher(letter, key, encrypt=True)\n",
    "decrypted_letter = playfair_cipher(encrypted_letter, key, encrypt=False)\n",
    "print(f\"Original letter: {letter}\")\n",
    "print(f\"Encrypted letter: {encrypted_letter}\")\n",
    "print(f\"Decrypted letter: {decrypted_letter}\")"
   ]
  },
  {
   "cell_type": "code",
   "execution_count": 15,
   "metadata": {},
   "outputs": [
    {
     "name": "stdout",
     "output_type": "stream",
     "text": [
      "\n",
      "Original word: caesar\n",
      "Encrypted word: BYKNLB\n",
      "Decrypted word: CAESAR\n"
     ]
    }
   ],
   "source": [
    "# Section 2: Encrypt and decrypt a word\n",
    "word = \"caesar\"\n",
    "encrypted_word = playfair_cipher(word, key, encrypt=True)\n",
    "decrypted_word = playfair_cipher(encrypted_word, key, encrypt=False)\n",
    "print(f\"\\nOriginal word: {word}\")\n",
    "print(f\"Encrypted word: {encrypted_word}\")\n",
    "print(f\"Decrypted word: {decrypted_word}\")"
   ]
  },
  {
   "cell_type": "code",
   "execution_count": 16,
   "metadata": {},
   "outputs": [
    {
     "name": "stdout",
     "output_type": "stream",
     "text": [
      "\n",
      "Original sentence: i am a hacker\n",
      "Encrypted sentence: BPHFQBKSGI\n",
      "Decrypted sentence: IAMAHACKER\n"
     ]
    }
   ],
   "source": [
    "# Section 3: Encrypt and decrypt a sentence\n",
    "sentence = \"i am a hacker\"\n",
    "encrypted_sentence = playfair_cipher(sentence, key, encrypt=True)\n",
    "decrypted_sentence = playfair_cipher(encrypted_sentence, key, encrypt=False)\n",
    "print(f\"\\nOriginal sentence: {sentence}\")\n",
    "print(f\"Encrypted sentence: {encrypted_sentence}\")\n",
    "print(f\"Decrypted sentence: {decrypted_sentence}\")"
   ]
  },
  {
   "cell_type": "markdown",
   "metadata": {},
   "source": [
    "Changing the key for the Playfair Cipher"
   ]
  },
  {
   "cell_type": "code",
   "execution_count": 21,
   "metadata": {},
   "outputs": [],
   "source": [
    "key = \"AMFJCMDW\""
   ]
  },
  {
   "cell_type": "code",
   "execution_count": 22,
   "metadata": {},
   "outputs": [
    {
     "name": "stdout",
     "output_type": "stream",
     "text": [
      "Original letter: a\n",
      "Encrypted letter: FU\n",
      "Decrypted letter: AX\n"
     ]
    }
   ],
   "source": [
    "# Section 1: Encrypt and decrypt a letter (adjusted to digraphs)\n",
    "letter = \"a\"\n",
    "encrypted_letter = playfair_cipher(letter, key, encrypt=True)\n",
    "decrypted_letter = playfair_cipher(encrypted_letter, key, encrypt=False)\n",
    "print(f\"Original letter: {letter}\")\n",
    "print(f\"Encrypted letter: {encrypted_letter}\")\n",
    "print(f\"Decrypted letter: {decrypted_letter}\")"
   ]
  },
  {
   "cell_type": "code",
   "execution_count": 23,
   "metadata": {},
   "outputs": [
    {
     "name": "stdout",
     "output_type": "stream",
     "text": [
      "\n",
      "Original word: caesar\n",
      "Encrypted word: AMNYFP\n",
      "Decrypted word: CAESAR\n"
     ]
    }
   ],
   "source": [
    "# Section 2: Encrypt and decrypt a word\n",
    "word = \"caesar\"\n",
    "encrypted_word = playfair_cipher(word, key, encrypt=True)\n",
    "decrypted_word = playfair_cipher(encrypted_word, key, encrypt=False)\n",
    "print(f\"\\nOriginal word: {word}\")\n",
    "print(f\"Encrypted word: {encrypted_word}\")\n",
    "print(f\"Decrypted word: {decrypted_word}\")"
   ]
  },
  {
   "cell_type": "code",
   "execution_count": 24,
   "metadata": {},
   "outputs": [
    {
     "name": "stdout",
     "output_type": "stream",
     "text": [
      "\n",
      "Original sentence: i am a hacker\n",
      "Encrypted sentence: CMFMPDMOBS\n",
      "Decrypted sentence: IAMAHACKER\n"
     ]
    }
   ],
   "source": [
    "# Section 3: Encrypt and decrypt a sentence\n",
    "sentence = \"i am a hacker\"\n",
    "encrypted_sentence = playfair_cipher(sentence, key, encrypt=True)\n",
    "decrypted_sentence = playfair_cipher(encrypted_sentence, key, encrypt=False)\n",
    "print(f\"\\nOriginal sentence: {sentence}\")\n",
    "print(f\"Encrypted sentence: {encrypted_sentence}\")\n",
    "print(f\"Decrypted sentence: {decrypted_sentence}\")"
   ]
  }
 ],
 "metadata": {
  "kernelspec": {
   "display_name": "Python 3",
   "language": "python",
   "name": "python3"
  },
  "language_info": {
   "codemirror_mode": {
    "name": "ipython",
    "version": 3
   },
   "file_extension": ".py",
   "mimetype": "text/x-python",
   "name": "python",
   "nbconvert_exporter": "python",
   "pygments_lexer": "ipython3",
   "version": "3.11.9"
  }
 },
 "nbformat": 4,
 "nbformat_minor": 2
}
